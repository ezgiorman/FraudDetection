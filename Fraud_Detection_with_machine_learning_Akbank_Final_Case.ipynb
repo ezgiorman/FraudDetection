{
  "nbformat": 4,
  "nbformat_minor": 0,
  "metadata": {
    "colab": {
      "provenance": [],
      "collapsed_sections": [
        "LKE9Uq32tZQz"
      ]
    },
    "kernelspec": {
      "name": "python3",
      "display_name": "Python 3"
    },
    "language_info": {
      "name": "python"
    }
  },
  "cells": [
    {
      "cell_type": "markdown",
      "source": [
        "# Generating Data"
      ],
      "metadata": {
        "id": "LKE9Uq32tZQz"
      }
    },
    {
      "cell_type": "markdown",
      "source": [
        "### Importing libraries to be used for data generation"
      ],
      "metadata": {
        "id": "mxVkXEkSmhHS"
      }
    },
    {
      "cell_type": "code",
      "execution_count": null,
      "metadata": {
        "id": "ApZirhOgmYcr"
      },
      "outputs": [],
      "source": [
        "import numpy as np\n",
        "\n",
        "import pandas as pd\n"
      ]
    },
    {
      "cell_type": "markdown",
      "source": [
        "### Defining variables and data structures used\n",
        "\n"
      ],
      "metadata": {
        "id": "e1CofnBfm2PP"
      }
    },
    {
      "cell_type": "code",
      "source": [
        "dataframe = pd.DataFrame()\n",
        "pd.set_option('display.max_columns', None)\n",
        "#Size of dataset\n",
        "data_sample_size = 10000\n",
        "customer_size = 1000\n",
        "#Types of transaction\n",
        "transaction_types = [\"payment\", \"credit\", \"transfer\"]\n",
        "\n",
        "\n",
        "# min and max page(screen) counts of each payment type\n",
        "# page count: the number of pages the customer visited while completing the transaction in the app. as the transaction differs, the number of pages also differs\n",
        "menu_min_max_page_counts = {\n",
        "    \"payment\": [5, 25],\n",
        "    \"credit\": [10, 25],\n",
        "    \"transfer\": [6, 25]\n",
        "}\n",
        "\n",
        "# min, max, std, mean\n",
        "trans_types_and_limits = {\n",
        "    \"payment\": [50, 30_000, 600, 1_000],\n",
        "    \"credit\": [500, 200_000, 7_000, 50_000],\n",
        "    \"transfer\": [200, 200_000, 50_000, 5_000]\n",
        "}\n",
        "# List of features to be created with normal distribution\n",
        "normal_dist_features = [\n",
        "        [\"transaction_time\",data_sample_size,120,120,15,300,True],\n",
        "        [\"customer_per_transaction_time_mean\",data_sample_size,120,130,50,300,False], #####\n",
        "        [\"transaction_scroll_distance\",data_sample_size,35,800,200,3600,True],\n",
        "        [\"customer_per_transaction_scroll_distance_mean\",data_sample_size,35,800,200,3600,False],\n",
        "        [\"customer_per_transaction_click_mean\",data_sample_size,40,35,10,200,False],####\n",
        "        [\"transaction_click\",data_sample_size,40,35,10,200,True],\n",
        "        [\"app_leave_count\",data_sample_size,2,2,0,20,True],\n",
        "        [\"transaction_screen_pressure_mean_per_page\",data_sample_size,10,45,10,100,False],\n",
        "        [\"customer_screen_pressure_mean_per_page\",data_sample_size,10,45,10,100,False],\n",
        "        [\"distance_from_last_transaction\",data_sample_size,10,20,1,2000,True],\n",
        "        [\"new_old_balance_ratio_orig\",data_sample_size,30,.5,0,.90,False],\n",
        "        [\"old_new_balance_ratio_dest\",data_sample_size,30,.5,0,.90,False],\n",
        "        [\"total_income_per_year\",data_sample_size,24000,204_000,24_000,3_600_000,True],\n",
        "        [\"dest_last_24h_transaction_count\",data_sample_size,5,8,0,70,True]]\n",
        "\n",
        "# List of features to be generated using the above variables\n",
        "mean_features = [\n",
        "    [\"transaction_scroll_distance_mean\", \"transaction_scroll_distance\"],\n",
        "    [\"customer_per_page_time_mean\",\"customer_per_transaction_time_mean\"],\n",
        "    [\"customer_per_page_scroll_distance_mean\",\"customer_per_transaction_scroll_distance_mean\"],\n",
        "    [\"transaction_click_mean\", \"transaction_click\"]\n",
        "    ]\n",
        "app_types = [\"web\",\"mobile\"]\n",
        "device_types = [\"desktop\",\"mobile\"]\n",
        "\n",
        "# Education type list\n",
        "edu_types = [\"non_edu\",\"primary_school\",\"secondary_school\",\"high_school\",\"university\"]\n",
        "# from TUIK\n",
        "edu_type_probabilities = np.array([3.5, 23.8, 19.4, 25.4, 27.9])\n",
        "\n",
        "amount_segment_dict = {\n",
        "    \"low\" : [500,5000],\n",
        "    \"mid-low\" : [5000,10000],\n",
        "    \"mid\" : [10000,50000],\n",
        "    \"mid-high\" : [50000,100000],\n",
        "    \"high\" : [100000,200000]\n",
        "}\n",
        "amount_segment_probabilities = np.array([39,35,12,12,2])\n",
        "\n",
        "#From TUIK\n",
        "customer_income_level = [\"very-low\",\"low\",\"mid\",\"high\",\"very-high\"]\n",
        "customer_income_level_probabilities = np.array([23,32,18,21,6])\n",
        "\n",
        "\n",
        "# Cutomer age\n",
        "customer_ages_dict = {\n",
        "      \"18-25\" : [18,25],\n",
        "      \"26-35\" : [26,35],\n",
        "      \"36-55\" : [36,55],\n",
        "      \"56-65\" : [56,65],\n",
        "      \"65+\" : [66,100]\n",
        "}\n",
        "#From TBB.org\n",
        "cutomer_age_probabilites = np.array([23,26,38,9,4])\n"
      ],
      "metadata": {
        "id": "bm-DwRX1ms4u"
      },
      "execution_count": null,
      "outputs": []
    },
    {
      "cell_type": "markdown",
      "source": [
        "### Defining functions used for creating data"
      ],
      "metadata": {
        "id": "RhjR5sk7qTvk"
      }
    },
    {
      "cell_type": "code",
      "source": [
        "# this function creates data in a range with a normal distribution\n",
        "def create_data_with_normal_dist(size, std, mean, min, max, is_int = False):\n",
        "  data = []\n",
        "  while len(data) < size:\n",
        "    x = np.random.normal(mean, std)\n",
        "    if min <= x <= max:\n",
        "      if is_int:\n",
        "        x = int(x)\n",
        "      data.append(x)\n",
        "  return data\n",
        "\n",
        "# this function create page count by transaction type between min and max\n",
        "def produce_page_counts(transaction_type):\n",
        "  return create_data_with_normal_dist(1, 6, menu_min_max_page_counts[transaction_type][0]+2, menu_min_max_page_counts[transaction_type][0], menu_min_max_page_counts[transaction_type][1],True)[0]\n",
        "\n",
        "\n",
        "# this function calculates mean of given feature by related data\n",
        "def calculate_means_of_features(row, transaction_feature, transaction_page_count):\n",
        "  return row[transaction_feature] / row[transaction_page_count]\n",
        "\n",
        "# this function returns app type web or mobile by given device_type\n",
        "def decide_app_type(device_type):\n",
        "    if device_type == 'desktop':\n",
        "        return 'web'\n",
        "    else:\n",
        "        return np.random.choice([\"mobile\", \"web\"], size=1, p=[0.90, 0.10])[0]\n",
        "\n",
        "\n",
        "def create_data_with_probabilty(size,probabilities,values):\n",
        "  probabilities_dived_by_100 = probabilities / 100\n",
        "  data = np.random.choice(values, size=size, p=probabilities_dived_by_100)\n",
        "  return data\n",
        "\n",
        "def create_data_with_probabilty_and_convert_to_number(size,probabilities,keys,is_segments_returns):\n",
        "  probabilities_dived_by_100 = probabilities / 100\n",
        "  data = np.random.choice(list(keys.keys()),size=size, p = probabilities_dived_by_100)\n",
        "  data_result = []\n",
        "  for i in data:\n",
        "    data_result.append(np.random.randint(keys[i][0],keys[i][1],1)[0])\n",
        "  if is_segments_returns:\n",
        "    return data_result,data\n",
        "  else:\n",
        "    return data_result\n",
        "\n",
        "def produce_customer_transaction_amount_mean_byTransType(transaction_type):\n",
        "  return create_data_with_normal_dist(1, trans_types_and_limits[transaction_type][2], trans_types_and_limits[transaction_type][3], trans_types_and_limits[transaction_type][0], trans_types_and_limits[transaction_type][1],True)[0]"
      ],
      "metadata": {
        "id": "anqhZ7eypWAW"
      },
      "execution_count": null,
      "outputs": []
    },
    {
      "cell_type": "markdown",
      "source": [
        "### Creating some of numeric normal distributed features, and page counts and transaction type which are random distributed"
      ],
      "metadata": {
        "id": "TaA5bu0ctTm1"
      }
    },
    {
      "cell_type": "code",
      "source": [
        "for i in normal_dist_features:\n",
        "  dataframe[i[0]] = create_data_with_normal_dist(i[1],i[2],i[3],i[4],i[5],i[6])\n",
        "\n",
        "dataframe['transaction_type'] = [np.random.choice(transaction_types) for _ in range(data_sample_size)]\n",
        "\n",
        "dataframe[\"transaction_page_count\"] = dataframe[\"transaction_type\"].apply(produce_page_counts)\n"
      ],
      "metadata": {
        "id": "xdyOoyOyq-xs"
      },
      "execution_count": null,
      "outputs": []
    },
    {
      "cell_type": "markdown",
      "source": [
        "### Creating some of numeric mean features"
      ],
      "metadata": {
        "id": "JiNu7nh7uR5H"
      }
    },
    {
      "cell_type": "code",
      "source": [
        "dataframe[\"transaction_time_mean\"] = dataframe.apply(calculate_means_of_features, axis=1, args=(\"transaction_time\", \"transaction_page_count\"))\n",
        "dataframe[\"transaction_scroll_distance_mean\"] = dataframe.apply(calculate_means_of_features, axis=1, args=(\"transaction_scroll_distance\", \"transaction_page_count\"))\n",
        "dataframe[\"trasaction_per_page_click_mean\"] = dataframe.apply(calculate_means_of_features, axis=1, args=(\"transaction_click\", \"transaction_page_count\"))\n",
        "dataframe[\"customer_per_page_scroll_distance_mean\"] = dataframe.apply(calculate_means_of_features, axis=1, args=(\"customer_per_transaction_scroll_distance_mean\", \"transaction_page_count\"))\n",
        "dataframe[\"customer_per_page_time_mean\"] = dataframe.apply(calculate_means_of_features, axis=1, args=(\"customer_per_transaction_time_mean\", \"transaction_page_count\"))\n",
        "dataframe[\"customer_per_page_click_mean\"] = dataframe.apply(calculate_means_of_features, axis=1, args=(\"customer_per_transaction_click_mean\", \"transaction_page_count\"))\n",
        "dataframe[\"customer_transaction_amount_mean\"] =  dataframe[\"transaction_type\"].apply(produce_customer_transaction_amount_mean_byTransType)\n"
      ],
      "metadata": {
        "id": "S5MZuHGcuBG4"
      },
      "execution_count": null,
      "outputs": []
    },
    {
      "cell_type": "markdown",
      "source": [
        "### Creating categorical features\n"
      ],
      "metadata": {
        "id": "chAjyKSPvqy2"
      }
    },
    {
      "cell_type": "code",
      "source": [
        "dataframe['onphone'] = np.random.choice([0, 1], size=data_sample_size, p=[0.80, 0.20])\n",
        "dataframe['device_type'] = np.random.choice(device_types, size=data_sample_size, p=[0.80, 0.20])"
      ],
      "metadata": {
        "id": "Az7NAf0buYFz"
      },
      "execution_count": null,
      "outputs": []
    },
    {
      "cell_type": "code",
      "source": [
        "dataframe['application_type'] = dataframe['device_type'].apply(decide_app_type)"
      ],
      "metadata": {
        "id": "dsRFUI_wwogr"
      },
      "execution_count": null,
      "outputs": []
    },
    {
      "cell_type": "markdown",
      "source": [
        "### Create Customer IDs\n",
        "It is used for creating consistent customer data"
      ],
      "metadata": {
        "id": "r6y2Q7fUxP4T"
      }
    },
    {
      "cell_type": "code",
      "source": [
        "customer_orig_unique_ids = np.arange(0,customer_size)\n",
        "customer_dest_unique_ids = np.arange(customer_size,2*customer_size)\n",
        "dataframe[\"customer_orig_id\"] = np.random.choice(customer_orig_unique_ids, size=data_sample_size)\n",
        "dataframe[\"customer_dest_id\"] = np.random.choice(customer_dest_unique_ids, size=data_sample_size)"
      ],
      "metadata": {
        "id": "cfz9Xn6TxO-c"
      },
      "execution_count": null,
      "outputs": []
    },
    {
      "cell_type": "code",
      "source": [
        "user_edu_types = create_data_with_probabilty(customer_orig_unique_ids.size,edu_type_probabilities, edu_types)\n",
        "customer_education_level = dict(zip(customer_orig_unique_ids, user_edu_types))\n",
        "\n",
        "dataframe[\"customer_education_level\"] = dataframe[\"customer_orig_id\"].map(customer_education_level)"
      ],
      "metadata": {
        "id": "3a4Y33_pxFxM"
      },
      "execution_count": null,
      "outputs": []
    },
    {
      "cell_type": "markdown",
      "source": [
        "### Create amount_type and transaction_amount"
      ],
      "metadata": {
        "id": "hoZouEO3vHNe"
      }
    },
    {
      "cell_type": "code",
      "source": [
        "transaction_amounts,amount_types = create_data_with_probabilty_and_convert_to_number(data_sample_size,amount_segment_probabilities,amount_segment_dict,True)\n",
        "dataframe[\"amount_type\"] = amount_types\n",
        "dataframe[\"transaction_amount\"] = transaction_amounts"
      ],
      "metadata": {
        "id": "qfqBvj-9vGqc"
      },
      "execution_count": null,
      "outputs": []
    },
    {
      "cell_type": "markdown",
      "source": [
        "### Create ratio_currTran_to_cust_mean_amount"
      ],
      "metadata": {
        "id": "LfUaLay7JwF4"
      }
    },
    {
      "cell_type": "code",
      "source": [
        "dataframe[\"ratio_currTran_to_cust_mean_amount\"]  = dataframe[\"transaction_amount\"] / dataframe[\"customer_transaction_amount_mean\"]"
      ],
      "metadata": {
        "id": "Y_xPl1SqJwcH"
      },
      "execution_count": null,
      "outputs": []
    },
    {
      "cell_type": "markdown",
      "source": [
        "### Create customer assets"
      ],
      "metadata": {
        "id": "icGim4R_yZgy"
      }
    },
    {
      "cell_type": "code",
      "source": [
        "customer_income_levels = create_data_with_probabilty(customer_size,customer_income_level_probabilities,customer_income_level)\n",
        "customer_orig_assets = dict(zip(customer_orig_unique_ids, customer_income_levels))\n",
        "dataframe[\"customer_orig_assets\"] = dataframe[\"customer_orig_id\"].map(customer_orig_assets)"
      ],
      "metadata": {
        "id": "BgwjwgYfzTAL"
      },
      "execution_count": null,
      "outputs": []
    },
    {
      "cell_type": "markdown",
      "source": [
        "### Create customer ages"
      ],
      "metadata": {
        "id": "LO5mCy3z7Wbm"
      }
    },
    {
      "cell_type": "code",
      "source": [
        "customer_ages,customer_ages_categorical = create_data_with_probabilty_and_convert_to_number(customer_size,cutomer_age_probabilites,customer_ages_dict,True)\n",
        "customer_age = dict(zip(customer_orig_unique_ids, customer_ages))\n",
        "customer_age_categorical = dict(zip(customer_orig_unique_ids, customer_ages_categorical))\n",
        "dataframe[\"customer_orig_age\"] = dataframe[\"customer_orig_id\"].map(customer_age)\n",
        "dataframe[\"customer_age_categorical\"] = dataframe[\"customer_orig_id\"].map(customer_age_categorical)"
      ],
      "metadata": {
        "id": "Hu4N5xP5z1wR"
      },
      "execution_count": null,
      "outputs": []
    },
    {
      "cell_type": "code",
      "source": [
        "dataframe.info()"
      ],
      "metadata": {
        "colab": {
          "base_uri": "https://localhost:8080/"
        },
        "id": "Z15jNVLPzWpQ",
        "outputId": "8845f10d-d960-4e59-ac92-18aef6d9766b"
      },
      "execution_count": null,
      "outputs": [
        {
          "output_type": "stream",
          "name": "stdout",
          "text": [
            "<class 'pandas.core.frame.DataFrame'>\n",
            "RangeIndex: 10000 entries, 0 to 9999\n",
            "Data columns (total 35 columns):\n",
            " #   Column                                         Non-Null Count  Dtype  \n",
            "---  ------                                         --------------  -----  \n",
            " 0   transaction_time                               10000 non-null  int64  \n",
            " 1   customer_per_transaction_time_mean             10000 non-null  float64\n",
            " 2   transaction_scroll_distance                    10000 non-null  int64  \n",
            " 3   customer_per_transaction_scroll_distance_mean  10000 non-null  float64\n",
            " 4   customer_per_transaction_click_mean            10000 non-null  float64\n",
            " 5   transaction_click                              10000 non-null  int64  \n",
            " 6   app_leave_count                                10000 non-null  int64  \n",
            " 7   transaction_screen_pressure_mean_per_page      10000 non-null  float64\n",
            " 8   customer_screen_pressure_mean_per_page         10000 non-null  float64\n",
            " 9   distance_from_last_transaction                 10000 non-null  int64  \n",
            " 10  new_old_balance_ratio_orig                     10000 non-null  float64\n",
            " 11  old_new_balance_ratio_dest                     10000 non-null  float64\n",
            " 12  total_income_per_year                          10000 non-null  int64  \n",
            " 13  dest_last_24h_transaction_count                10000 non-null  int64  \n",
            " 14  transaction_type                               10000 non-null  object \n",
            " 15  transaction_page_count                         10000 non-null  int64  \n",
            " 16  transaction_time_mean                          10000 non-null  float64\n",
            " 17  transaction_scroll_distance_mean               10000 non-null  float64\n",
            " 18  trasaction_per_page_click_mean                 10000 non-null  float64\n",
            " 19  customer_per_page_scroll_distance_mean         10000 non-null  float64\n",
            " 20  customer_per_page_time_mean                    10000 non-null  float64\n",
            " 21  customer_per_page_click_mean                   10000 non-null  float64\n",
            " 22  customer_transaction_amount_mean               10000 non-null  int64  \n",
            " 23  onphone                                        10000 non-null  int64  \n",
            " 24  device_type                                    10000 non-null  object \n",
            " 25  application_type                               10000 non-null  object \n",
            " 26  customer_orig_id                               10000 non-null  int64  \n",
            " 27  customer_dest_id                               10000 non-null  int64  \n",
            " 28  customer_education_level                       10000 non-null  object \n",
            " 29  amount_type                                    10000 non-null  object \n",
            " 30  transaction_amount                             10000 non-null  int64  \n",
            " 31  ratio_currTran_to_cust_mean_amount             10000 non-null  float64\n",
            " 32  customer_orig_assets                           10000 non-null  object \n",
            " 33  customer_orig_age                              10000 non-null  int64  \n",
            " 34  customer_age_categorical                       10000 non-null  object \n",
            "dtypes: float64(14), int64(14), object(7)\n",
            "memory usage: 2.7+ MB\n"
          ]
        }
      ]
    },
    {
      "cell_type": "code",
      "source": [
        "dataframe.describe().T"
      ],
      "metadata": {
        "id": "nFnlW8c8zrA3",
        "colab": {
          "base_uri": "https://localhost:8080/"
        },
        "outputId": "7db9bb67-e64f-4120-e50d-dcc2e173609b"
      },
      "execution_count": null,
      "outputs": [
        {
          "output_type": "execute_result",
          "data": {
            "text/plain": [
              "                                                 count           mean  \\\n",
              "transaction_time                               10000.0     143.180600   \n",
              "customer_per_transaction_time_mean             10000.0     161.801620   \n",
              "transaction_scroll_distance                    10000.0     799.684700   \n",
              "customer_per_transaction_scroll_distance_mean  10000.0     800.231841   \n",
              "customer_per_transaction_click_mean            10000.0      53.021132   \n",
              "transaction_click                              10000.0      52.401600   \n",
              "app_leave_count                                10000.0       2.081100   \n",
              "transaction_screen_pressure_mean_per_page      10000.0      45.085085   \n",
              "customer_screen_pressure_mean_per_page         10000.0      45.002534   \n",
              "distance_from_last_transaction                 10000.0      20.205500   \n",
              "new_old_balance_ratio_orig                     10000.0       0.449114   \n",
              "old_new_balance_ratio_dest                     10000.0       0.451750   \n",
              "total_income_per_year                          10000.0  204058.526600   \n",
              "dest_last_24h_transaction_count                10000.0       8.042700   \n",
              "transaction_page_count                         10000.0      11.941600   \n",
              "transaction_time_mean                          10000.0      13.802194   \n",
              "transaction_scroll_distance_mean               10000.0      77.045105   \n",
              "trasaction_per_page_click_mean                 10000.0       5.049545   \n",
              "customer_per_page_scroll_distance_mean         10000.0      77.113765   \n",
              "customer_per_page_time_mean                    10000.0      15.595553   \n",
              "customer_per_page_click_mean                   10000.0       5.092663   \n",
              "customer_transaction_amount_mean               10000.0   30711.585500   \n",
              "onphone                                        10000.0       0.199900   \n",
              "customer_orig_id                               10000.0     504.413000   \n",
              "customer_dest_id                               10000.0    1498.998300   \n",
              "transaction_amount                             10000.0   18570.498400   \n",
              "ratio_currTran_to_cust_mean_amount             10000.0      10.055229   \n",
              "customer_orig_age                              10000.0      37.802400   \n",
              "\n",
              "                                                        std            min  \\\n",
              "transaction_time                                  74.289315      15.000000   \n",
              "customer_per_transaction_time_mean                66.422150      50.007025   \n",
              "transaction_scroll_distance                       34.779590     669.000000   \n",
              "customer_per_transaction_scroll_distance_mean     35.230390     682.602969   \n",
              "customer_per_transaction_click_mean               28.827275      10.017858   \n",
              "transaction_click                                 28.620266      10.000000   \n",
              "app_leave_count                                    1.577838       0.000000   \n",
              "transaction_screen_pressure_mean_per_page         10.085682      10.327439   \n",
              "customer_screen_pressure_mean_per_page             9.941120      10.159317   \n",
              "distance_from_last_transaction                     9.251293       1.000000   \n",
              "new_old_balance_ratio_orig                         0.259432       0.000036   \n",
              "old_new_balance_ratio_dest                         0.260386       0.000009   \n",
              "total_income_per_year                          23953.514766  123271.000000   \n",
              "dest_last_24h_transaction_count                    4.480657       0.000000   \n",
              "transaction_page_count                             4.325328       5.000000   \n",
              "transaction_time_mean                              9.388750       0.800000   \n",
              "transaction_scroll_distance_mean                  30.645318      29.125000   \n",
              "trasaction_per_page_click_mean                     3.615270       0.434783   \n",
              "customer_per_page_scroll_distance_mean            30.723654      29.910762   \n",
              "customer_per_page_time_mean                        9.310070       2.210218   \n",
              "customer_per_page_click_mean                       3.558183       0.478399   \n",
              "customer_transaction_amount_mean               28062.971119      52.000000   \n",
              "onphone                                            0.399945       0.000000   \n",
              "customer_orig_id                                 288.932221       0.000000   \n",
              "customer_dest_id                                 286.320840    1000.000000   \n",
              "transaction_amount                             30203.127991     500.000000   \n",
              "ratio_currTran_to_cust_mean_amount                55.365408       0.004459   \n",
              "customer_orig_age                                 15.546753      18.000000   \n",
              "\n",
              "                                                         25%            50%  \\\n",
              "transaction_time                                   82.000000     140.000000   \n",
              "customer_per_transaction_time_mean                106.387362     157.641436   \n",
              "transaction_scroll_distance                       776.000000     799.000000   \n",
              "customer_per_transaction_scroll_distance_mean     776.191339     799.986324   \n",
              "customer_per_transaction_click_mean                30.184315      48.521411   \n",
              "transaction_click                                  30.000000      48.000000   \n",
              "app_leave_count                                     1.000000       2.000000   \n",
              "transaction_screen_pressure_mean_per_page          38.353818      45.021304   \n",
              "customer_screen_pressure_mean_per_page             38.366210      45.067650   \n",
              "distance_from_last_transaction                     13.000000      20.000000   \n",
              "new_old_balance_ratio_orig                          0.226156       0.449774   \n",
              "old_new_balance_ratio_dest                          0.225945       0.451203   \n",
              "total_income_per_year                          188055.500000  203847.500000   \n",
              "dest_last_24h_transaction_count                     5.000000       8.000000   \n",
              "transaction_page_count                              9.000000      11.000000   \n",
              "transaction_time_mean                               6.712185      11.882353   \n",
              "transaction_scroll_distance_mean                   54.328125      69.609848   \n",
              "trasaction_per_page_click_mean                      2.461538       4.200000   \n",
              "customer_per_page_scroll_distance_mean             54.514624      69.586973   \n",
              "customer_per_page_time_mean                         8.805054      13.518093   \n",
              "customer_per_page_click_mean                        2.524320       4.220297   \n",
              "customer_transaction_amount_mean                 1410.750000   33531.500000   \n",
              "onphone                                             0.000000       0.000000   \n",
              "customer_orig_id                                  255.000000     507.500000   \n",
              "customer_dest_id                                 1251.000000    1498.000000   \n",
              "transaction_amount                               3356.750000    6485.000000   \n",
              "ratio_currTran_to_cust_mean_amount                  0.111303       0.529019   \n",
              "customer_orig_age                                  24.000000      34.000000   \n",
              "\n",
              "                                                         75%            max  \n",
              "transaction_time                                  200.000000     299.000000  \n",
              "customer_per_transaction_time_mean                213.348564     299.919137  \n",
              "transaction_scroll_distance                       824.000000     936.000000  \n",
              "customer_per_transaction_scroll_distance_mean     824.262861     929.683157  \n",
              "customer_per_transaction_click_mean                71.004375     187.586697  \n",
              "transaction_click                                  70.000000     195.000000  \n",
              "app_leave_count                                     3.000000       9.000000  \n",
              "transaction_screen_pressure_mean_per_page          51.868312      88.835518  \n",
              "customer_screen_pressure_mean_per_page             51.628407      80.315886  \n",
              "distance_from_last_transaction                     26.000000      57.000000  \n",
              "new_old_balance_ratio_orig                          0.671039       0.899808  \n",
              "old_new_balance_ratio_dest                          0.678865       0.899992  \n",
              "total_income_per_year                          220545.000000  299451.000000  \n",
              "dest_last_24h_transaction_count                    11.000000      27.000000  \n",
              "transaction_page_count                             15.000000      24.000000  \n",
              "transaction_time_mean                              18.587500      59.200000  \n",
              "transaction_scroll_distance_mean                   92.916667     177.600000  \n",
              "trasaction_per_page_click_mean                      6.600000      33.000000  \n",
              "customer_per_page_scroll_distance_mean             93.070106     180.787493  \n",
              "customer_per_page_time_mean                        19.957326      59.915713  \n",
              "customer_per_page_click_mean                        6.671628      32.747473  \n",
              "customer_transaction_amount_mean                51269.750000  167726.000000  \n",
              "onphone                                             0.000000       1.000000  \n",
              "customer_orig_id                                  755.000000     999.000000  \n",
              "customer_dest_id                                 1746.000000    1999.000000  \n",
              "transaction_amount                               9971.000000  199225.000000  \n",
              "ratio_currTran_to_cust_mean_amount                  3.874574    3018.568966  \n",
              "customer_orig_age                                  48.000000      99.000000  "
            ],
            "text/html": [
              "\n",
              "  <div id=\"df-86156374-5001-4c41-bc95-3cca1d54e5df\" class=\"colab-df-container\">\n",
              "    <div>\n",
              "<style scoped>\n",
              "    .dataframe tbody tr th:only-of-type {\n",
              "        vertical-align: middle;\n",
              "    }\n",
              "\n",
              "    .dataframe tbody tr th {\n",
              "        vertical-align: top;\n",
              "    }\n",
              "\n",
              "    .dataframe thead th {\n",
              "        text-align: right;\n",
              "    }\n",
              "</style>\n",
              "<table border=\"1\" class=\"dataframe\">\n",
              "  <thead>\n",
              "    <tr style=\"text-align: right;\">\n",
              "      <th></th>\n",
              "      <th>count</th>\n",
              "      <th>mean</th>\n",
              "      <th>std</th>\n",
              "      <th>min</th>\n",
              "      <th>25%</th>\n",
              "      <th>50%</th>\n",
              "      <th>75%</th>\n",
              "      <th>max</th>\n",
              "    </tr>\n",
              "  </thead>\n",
              "  <tbody>\n",
              "    <tr>\n",
              "      <th>transaction_time</th>\n",
              "      <td>10000.0</td>\n",
              "      <td>143.180600</td>\n",
              "      <td>74.289315</td>\n",
              "      <td>15.000000</td>\n",
              "      <td>82.000000</td>\n",
              "      <td>140.000000</td>\n",
              "      <td>200.000000</td>\n",
              "      <td>299.000000</td>\n",
              "    </tr>\n",
              "    <tr>\n",
              "      <th>customer_per_transaction_time_mean</th>\n",
              "      <td>10000.0</td>\n",
              "      <td>161.801620</td>\n",
              "      <td>66.422150</td>\n",
              "      <td>50.007025</td>\n",
              "      <td>106.387362</td>\n",
              "      <td>157.641436</td>\n",
              "      <td>213.348564</td>\n",
              "      <td>299.919137</td>\n",
              "    </tr>\n",
              "    <tr>\n",
              "      <th>transaction_scroll_distance</th>\n",
              "      <td>10000.0</td>\n",
              "      <td>799.684700</td>\n",
              "      <td>34.779590</td>\n",
              "      <td>669.000000</td>\n",
              "      <td>776.000000</td>\n",
              "      <td>799.000000</td>\n",
              "      <td>824.000000</td>\n",
              "      <td>936.000000</td>\n",
              "    </tr>\n",
              "    <tr>\n",
              "      <th>customer_per_transaction_scroll_distance_mean</th>\n",
              "      <td>10000.0</td>\n",
              "      <td>800.231841</td>\n",
              "      <td>35.230390</td>\n",
              "      <td>682.602969</td>\n",
              "      <td>776.191339</td>\n",
              "      <td>799.986324</td>\n",
              "      <td>824.262861</td>\n",
              "      <td>929.683157</td>\n",
              "    </tr>\n",
              "    <tr>\n",
              "      <th>customer_per_transaction_click_mean</th>\n",
              "      <td>10000.0</td>\n",
              "      <td>53.021132</td>\n",
              "      <td>28.827275</td>\n",
              "      <td>10.017858</td>\n",
              "      <td>30.184315</td>\n",
              "      <td>48.521411</td>\n",
              "      <td>71.004375</td>\n",
              "      <td>187.586697</td>\n",
              "    </tr>\n",
              "    <tr>\n",
              "      <th>transaction_click</th>\n",
              "      <td>10000.0</td>\n",
              "      <td>52.401600</td>\n",
              "      <td>28.620266</td>\n",
              "      <td>10.000000</td>\n",
              "      <td>30.000000</td>\n",
              "      <td>48.000000</td>\n",
              "      <td>70.000000</td>\n",
              "      <td>195.000000</td>\n",
              "    </tr>\n",
              "    <tr>\n",
              "      <th>app_leave_count</th>\n",
              "      <td>10000.0</td>\n",
              "      <td>2.081100</td>\n",
              "      <td>1.577838</td>\n",
              "      <td>0.000000</td>\n",
              "      <td>1.000000</td>\n",
              "      <td>2.000000</td>\n",
              "      <td>3.000000</td>\n",
              "      <td>9.000000</td>\n",
              "    </tr>\n",
              "    <tr>\n",
              "      <th>transaction_screen_pressure_mean_per_page</th>\n",
              "      <td>10000.0</td>\n",
              "      <td>45.085085</td>\n",
              "      <td>10.085682</td>\n",
              "      <td>10.327439</td>\n",
              "      <td>38.353818</td>\n",
              "      <td>45.021304</td>\n",
              "      <td>51.868312</td>\n",
              "      <td>88.835518</td>\n",
              "    </tr>\n",
              "    <tr>\n",
              "      <th>customer_screen_pressure_mean_per_page</th>\n",
              "      <td>10000.0</td>\n",
              "      <td>45.002534</td>\n",
              "      <td>9.941120</td>\n",
              "      <td>10.159317</td>\n",
              "      <td>38.366210</td>\n",
              "      <td>45.067650</td>\n",
              "      <td>51.628407</td>\n",
              "      <td>80.315886</td>\n",
              "    </tr>\n",
              "    <tr>\n",
              "      <th>distance_from_last_transaction</th>\n",
              "      <td>10000.0</td>\n",
              "      <td>20.205500</td>\n",
              "      <td>9.251293</td>\n",
              "      <td>1.000000</td>\n",
              "      <td>13.000000</td>\n",
              "      <td>20.000000</td>\n",
              "      <td>26.000000</td>\n",
              "      <td>57.000000</td>\n",
              "    </tr>\n",
              "    <tr>\n",
              "      <th>new_old_balance_ratio_orig</th>\n",
              "      <td>10000.0</td>\n",
              "      <td>0.449114</td>\n",
              "      <td>0.259432</td>\n",
              "      <td>0.000036</td>\n",
              "      <td>0.226156</td>\n",
              "      <td>0.449774</td>\n",
              "      <td>0.671039</td>\n",
              "      <td>0.899808</td>\n",
              "    </tr>\n",
              "    <tr>\n",
              "      <th>old_new_balance_ratio_dest</th>\n",
              "      <td>10000.0</td>\n",
              "      <td>0.451750</td>\n",
              "      <td>0.260386</td>\n",
              "      <td>0.000009</td>\n",
              "      <td>0.225945</td>\n",
              "      <td>0.451203</td>\n",
              "      <td>0.678865</td>\n",
              "      <td>0.899992</td>\n",
              "    </tr>\n",
              "    <tr>\n",
              "      <th>total_income_per_year</th>\n",
              "      <td>10000.0</td>\n",
              "      <td>204058.526600</td>\n",
              "      <td>23953.514766</td>\n",
              "      <td>123271.000000</td>\n",
              "      <td>188055.500000</td>\n",
              "      <td>203847.500000</td>\n",
              "      <td>220545.000000</td>\n",
              "      <td>299451.000000</td>\n",
              "    </tr>\n",
              "    <tr>\n",
              "      <th>dest_last_24h_transaction_count</th>\n",
              "      <td>10000.0</td>\n",
              "      <td>8.042700</td>\n",
              "      <td>4.480657</td>\n",
              "      <td>0.000000</td>\n",
              "      <td>5.000000</td>\n",
              "      <td>8.000000</td>\n",
              "      <td>11.000000</td>\n",
              "      <td>27.000000</td>\n",
              "    </tr>\n",
              "    <tr>\n",
              "      <th>transaction_page_count</th>\n",
              "      <td>10000.0</td>\n",
              "      <td>11.941600</td>\n",
              "      <td>4.325328</td>\n",
              "      <td>5.000000</td>\n",
              "      <td>9.000000</td>\n",
              "      <td>11.000000</td>\n",
              "      <td>15.000000</td>\n",
              "      <td>24.000000</td>\n",
              "    </tr>\n",
              "    <tr>\n",
              "      <th>transaction_time_mean</th>\n",
              "      <td>10000.0</td>\n",
              "      <td>13.802194</td>\n",
              "      <td>9.388750</td>\n",
              "      <td>0.800000</td>\n",
              "      <td>6.712185</td>\n",
              "      <td>11.882353</td>\n",
              "      <td>18.587500</td>\n",
              "      <td>59.200000</td>\n",
              "    </tr>\n",
              "    <tr>\n",
              "      <th>transaction_scroll_distance_mean</th>\n",
              "      <td>10000.0</td>\n",
              "      <td>77.045105</td>\n",
              "      <td>30.645318</td>\n",
              "      <td>29.125000</td>\n",
              "      <td>54.328125</td>\n",
              "      <td>69.609848</td>\n",
              "      <td>92.916667</td>\n",
              "      <td>177.600000</td>\n",
              "    </tr>\n",
              "    <tr>\n",
              "      <th>trasaction_per_page_click_mean</th>\n",
              "      <td>10000.0</td>\n",
              "      <td>5.049545</td>\n",
              "      <td>3.615270</td>\n",
              "      <td>0.434783</td>\n",
              "      <td>2.461538</td>\n",
              "      <td>4.200000</td>\n",
              "      <td>6.600000</td>\n",
              "      <td>33.000000</td>\n",
              "    </tr>\n",
              "    <tr>\n",
              "      <th>customer_per_page_scroll_distance_mean</th>\n",
              "      <td>10000.0</td>\n",
              "      <td>77.113765</td>\n",
              "      <td>30.723654</td>\n",
              "      <td>29.910762</td>\n",
              "      <td>54.514624</td>\n",
              "      <td>69.586973</td>\n",
              "      <td>93.070106</td>\n",
              "      <td>180.787493</td>\n",
              "    </tr>\n",
              "    <tr>\n",
              "      <th>customer_per_page_time_mean</th>\n",
              "      <td>10000.0</td>\n",
              "      <td>15.595553</td>\n",
              "      <td>9.310070</td>\n",
              "      <td>2.210218</td>\n",
              "      <td>8.805054</td>\n",
              "      <td>13.518093</td>\n",
              "      <td>19.957326</td>\n",
              "      <td>59.915713</td>\n",
              "    </tr>\n",
              "    <tr>\n",
              "      <th>customer_per_page_click_mean</th>\n",
              "      <td>10000.0</td>\n",
              "      <td>5.092663</td>\n",
              "      <td>3.558183</td>\n",
              "      <td>0.478399</td>\n",
              "      <td>2.524320</td>\n",
              "      <td>4.220297</td>\n",
              "      <td>6.671628</td>\n",
              "      <td>32.747473</td>\n",
              "    </tr>\n",
              "    <tr>\n",
              "      <th>customer_transaction_amount_mean</th>\n",
              "      <td>10000.0</td>\n",
              "      <td>30711.585500</td>\n",
              "      <td>28062.971119</td>\n",
              "      <td>52.000000</td>\n",
              "      <td>1410.750000</td>\n",
              "      <td>33531.500000</td>\n",
              "      <td>51269.750000</td>\n",
              "      <td>167726.000000</td>\n",
              "    </tr>\n",
              "    <tr>\n",
              "      <th>onphone</th>\n",
              "      <td>10000.0</td>\n",
              "      <td>0.199900</td>\n",
              "      <td>0.399945</td>\n",
              "      <td>0.000000</td>\n",
              "      <td>0.000000</td>\n",
              "      <td>0.000000</td>\n",
              "      <td>0.000000</td>\n",
              "      <td>1.000000</td>\n",
              "    </tr>\n",
              "    <tr>\n",
              "      <th>customer_orig_id</th>\n",
              "      <td>10000.0</td>\n",
              "      <td>504.413000</td>\n",
              "      <td>288.932221</td>\n",
              "      <td>0.000000</td>\n",
              "      <td>255.000000</td>\n",
              "      <td>507.500000</td>\n",
              "      <td>755.000000</td>\n",
              "      <td>999.000000</td>\n",
              "    </tr>\n",
              "    <tr>\n",
              "      <th>customer_dest_id</th>\n",
              "      <td>10000.0</td>\n",
              "      <td>1498.998300</td>\n",
              "      <td>286.320840</td>\n",
              "      <td>1000.000000</td>\n",
              "      <td>1251.000000</td>\n",
              "      <td>1498.000000</td>\n",
              "      <td>1746.000000</td>\n",
              "      <td>1999.000000</td>\n",
              "    </tr>\n",
              "    <tr>\n",
              "      <th>transaction_amount</th>\n",
              "      <td>10000.0</td>\n",
              "      <td>18570.498400</td>\n",
              "      <td>30203.127991</td>\n",
              "      <td>500.000000</td>\n",
              "      <td>3356.750000</td>\n",
              "      <td>6485.000000</td>\n",
              "      <td>9971.000000</td>\n",
              "      <td>199225.000000</td>\n",
              "    </tr>\n",
              "    <tr>\n",
              "      <th>ratio_currTran_to_cust_mean_amount</th>\n",
              "      <td>10000.0</td>\n",
              "      <td>10.055229</td>\n",
              "      <td>55.365408</td>\n",
              "      <td>0.004459</td>\n",
              "      <td>0.111303</td>\n",
              "      <td>0.529019</td>\n",
              "      <td>3.874574</td>\n",
              "      <td>3018.568966</td>\n",
              "    </tr>\n",
              "    <tr>\n",
              "      <th>customer_orig_age</th>\n",
              "      <td>10000.0</td>\n",
              "      <td>37.802400</td>\n",
              "      <td>15.546753</td>\n",
              "      <td>18.000000</td>\n",
              "      <td>24.000000</td>\n",
              "      <td>34.000000</td>\n",
              "      <td>48.000000</td>\n",
              "      <td>99.000000</td>\n",
              "    </tr>\n",
              "  </tbody>\n",
              "</table>\n",
              "</div>\n",
              "    <div class=\"colab-df-buttons\">\n",
              "\n",
              "  <div class=\"colab-df-container\">\n",
              "    <button class=\"colab-df-convert\" onclick=\"convertToInteractive('df-86156374-5001-4c41-bc95-3cca1d54e5df')\"\n",
              "            title=\"Convert this dataframe to an interactive table.\"\n",
              "            style=\"display:none;\">\n",
              "\n",
              "  <svg xmlns=\"http://www.w3.org/2000/svg\" height=\"24px\" viewBox=\"0 -960 960 960\">\n",
              "    <path d=\"M120-120v-720h720v720H120Zm60-500h600v-160H180v160Zm220 220h160v-160H400v160Zm0 220h160v-160H400v160ZM180-400h160v-160H180v160Zm440 0h160v-160H620v160ZM180-180h160v-160H180v160Zm440 0h160v-160H620v160Z\"/>\n",
              "  </svg>\n",
              "    </button>\n",
              "\n",
              "  <style>\n",
              "    .colab-df-container {\n",
              "      display:flex;\n",
              "      gap: 12px;\n",
              "    }\n",
              "\n",
              "    .colab-df-convert {\n",
              "      background-color: #E8F0FE;\n",
              "      border: none;\n",
              "      border-radius: 50%;\n",
              "      cursor: pointer;\n",
              "      display: none;\n",
              "      fill: #1967D2;\n",
              "      height: 32px;\n",
              "      padding: 0 0 0 0;\n",
              "      width: 32px;\n",
              "    }\n",
              "\n",
              "    .colab-df-convert:hover {\n",
              "      background-color: #E2EBFA;\n",
              "      box-shadow: 0px 1px 2px rgba(60, 64, 67, 0.3), 0px 1px 3px 1px rgba(60, 64, 67, 0.15);\n",
              "      fill: #174EA6;\n",
              "    }\n",
              "\n",
              "    .colab-df-buttons div {\n",
              "      margin-bottom: 4px;\n",
              "    }\n",
              "\n",
              "    [theme=dark] .colab-df-convert {\n",
              "      background-color: #3B4455;\n",
              "      fill: #D2E3FC;\n",
              "    }\n",
              "\n",
              "    [theme=dark] .colab-df-convert:hover {\n",
              "      background-color: #434B5C;\n",
              "      box-shadow: 0px 1px 3px 1px rgba(0, 0, 0, 0.15);\n",
              "      filter: drop-shadow(0px 1px 2px rgba(0, 0, 0, 0.3));\n",
              "      fill: #FFFFFF;\n",
              "    }\n",
              "  </style>\n",
              "\n",
              "    <script>\n",
              "      const buttonEl =\n",
              "        document.querySelector('#df-86156374-5001-4c41-bc95-3cca1d54e5df button.colab-df-convert');\n",
              "      buttonEl.style.display =\n",
              "        google.colab.kernel.accessAllowed ? 'block' : 'none';\n",
              "\n",
              "      async function convertToInteractive(key) {\n",
              "        const element = document.querySelector('#df-86156374-5001-4c41-bc95-3cca1d54e5df');\n",
              "        const dataTable =\n",
              "          await google.colab.kernel.invokeFunction('convertToInteractive',\n",
              "                                                    [key], {});\n",
              "        if (!dataTable) return;\n",
              "\n",
              "        const docLinkHtml = 'Like what you see? Visit the ' +\n",
              "          '<a target=\"_blank\" href=https://colab.research.google.com/notebooks/data_table.ipynb>data table notebook</a>'\n",
              "          + ' to learn more about interactive tables.';\n",
              "        element.innerHTML = '';\n",
              "        dataTable['output_type'] = 'display_data';\n",
              "        await google.colab.output.renderOutput(dataTable, element);\n",
              "        const docLink = document.createElement('div');\n",
              "        docLink.innerHTML = docLinkHtml;\n",
              "        element.appendChild(docLink);\n",
              "      }\n",
              "    </script>\n",
              "  </div>\n",
              "\n",
              "\n",
              "<div id=\"df-c6ed3862-3ef9-40bf-bac2-a8e8f9197610\">\n",
              "  <button class=\"colab-df-quickchart\" onclick=\"quickchart('df-c6ed3862-3ef9-40bf-bac2-a8e8f9197610')\"\n",
              "            title=\"Suggest charts\"\n",
              "            style=\"display:none;\">\n",
              "\n",
              "<svg xmlns=\"http://www.w3.org/2000/svg\" height=\"24px\"viewBox=\"0 0 24 24\"\n",
              "     width=\"24px\">\n",
              "    <g>\n",
              "        <path d=\"M19 3H5c-1.1 0-2 .9-2 2v14c0 1.1.9 2 2 2h14c1.1 0 2-.9 2-2V5c0-1.1-.9-2-2-2zM9 17H7v-7h2v7zm4 0h-2V7h2v10zm4 0h-2v-4h2v4z\"/>\n",
              "    </g>\n",
              "</svg>\n",
              "  </button>\n",
              "\n",
              "<style>\n",
              "  .colab-df-quickchart {\n",
              "      --bg-color: #E8F0FE;\n",
              "      --fill-color: #1967D2;\n",
              "      --hover-bg-color: #E2EBFA;\n",
              "      --hover-fill-color: #174EA6;\n",
              "      --disabled-fill-color: #AAA;\n",
              "      --disabled-bg-color: #DDD;\n",
              "  }\n",
              "\n",
              "  [theme=dark] .colab-df-quickchart {\n",
              "      --bg-color: #3B4455;\n",
              "      --fill-color: #D2E3FC;\n",
              "      --hover-bg-color: #434B5C;\n",
              "      --hover-fill-color: #FFFFFF;\n",
              "      --disabled-bg-color: #3B4455;\n",
              "      --disabled-fill-color: #666;\n",
              "  }\n",
              "\n",
              "  .colab-df-quickchart {\n",
              "    background-color: var(--bg-color);\n",
              "    border: none;\n",
              "    border-radius: 50%;\n",
              "    cursor: pointer;\n",
              "    display: none;\n",
              "    fill: var(--fill-color);\n",
              "    height: 32px;\n",
              "    padding: 0;\n",
              "    width: 32px;\n",
              "  }\n",
              "\n",
              "  .colab-df-quickchart:hover {\n",
              "    background-color: var(--hover-bg-color);\n",
              "    box-shadow: 0 1px 2px rgba(60, 64, 67, 0.3), 0 1px 3px 1px rgba(60, 64, 67, 0.15);\n",
              "    fill: var(--button-hover-fill-color);\n",
              "  }\n",
              "\n",
              "  .colab-df-quickchart-complete:disabled,\n",
              "  .colab-df-quickchart-complete:disabled:hover {\n",
              "    background-color: var(--disabled-bg-color);\n",
              "    fill: var(--disabled-fill-color);\n",
              "    box-shadow: none;\n",
              "  }\n",
              "\n",
              "  .colab-df-spinner {\n",
              "    border: 2px solid var(--fill-color);\n",
              "    border-color: transparent;\n",
              "    border-bottom-color: var(--fill-color);\n",
              "    animation:\n",
              "      spin 1s steps(1) infinite;\n",
              "  }\n",
              "\n",
              "  @keyframes spin {\n",
              "    0% {\n",
              "      border-color: transparent;\n",
              "      border-bottom-color: var(--fill-color);\n",
              "      border-left-color: var(--fill-color);\n",
              "    }\n",
              "    20% {\n",
              "      border-color: transparent;\n",
              "      border-left-color: var(--fill-color);\n",
              "      border-top-color: var(--fill-color);\n",
              "    }\n",
              "    30% {\n",
              "      border-color: transparent;\n",
              "      border-left-color: var(--fill-color);\n",
              "      border-top-color: var(--fill-color);\n",
              "      border-right-color: var(--fill-color);\n",
              "    }\n",
              "    40% {\n",
              "      border-color: transparent;\n",
              "      border-right-color: var(--fill-color);\n",
              "      border-top-color: var(--fill-color);\n",
              "    }\n",
              "    60% {\n",
              "      border-color: transparent;\n",
              "      border-right-color: var(--fill-color);\n",
              "    }\n",
              "    80% {\n",
              "      border-color: transparent;\n",
              "      border-right-color: var(--fill-color);\n",
              "      border-bottom-color: var(--fill-color);\n",
              "    }\n",
              "    90% {\n",
              "      border-color: transparent;\n",
              "      border-bottom-color: var(--fill-color);\n",
              "    }\n",
              "  }\n",
              "</style>\n",
              "\n",
              "  <script>\n",
              "    async function quickchart(key) {\n",
              "      const quickchartButtonEl =\n",
              "        document.querySelector('#' + key + ' button');\n",
              "      quickchartButtonEl.disabled = true;  // To prevent multiple clicks.\n",
              "      quickchartButtonEl.classList.add('colab-df-spinner');\n",
              "      try {\n",
              "        const charts = await google.colab.kernel.invokeFunction(\n",
              "            'suggestCharts', [key], {});\n",
              "      } catch (error) {\n",
              "        console.error('Error during call to suggestCharts:', error);\n",
              "      }\n",
              "      quickchartButtonEl.classList.remove('colab-df-spinner');\n",
              "      quickchartButtonEl.classList.add('colab-df-quickchart-complete');\n",
              "    }\n",
              "    (() => {\n",
              "      let quickchartButtonEl =\n",
              "        document.querySelector('#df-c6ed3862-3ef9-40bf-bac2-a8e8f9197610 button');\n",
              "      quickchartButtonEl.style.display =\n",
              "        google.colab.kernel.accessAllowed ? 'block' : 'none';\n",
              "    })();\n",
              "  </script>\n",
              "</div>\n",
              "\n",
              "    </div>\n",
              "  </div>\n"
            ],
            "application/vnd.google.colaboratory.intrinsic+json": {
              "type": "dataframe",
              "summary": "{\n  \"name\": \"dataframe\",\n  \"rows\": 28,\n  \"fields\": [\n    {\n      \"column\": \"count\",\n      \"properties\": {\n        \"dtype\": \"number\",\n        \"std\": 0.0,\n        \"min\": 10000.0,\n        \"max\": 10000.0,\n        \"num_unique_values\": 1,\n        \"samples\": [\n          10000.0\n        ],\n        \"semantic_type\": \"\",\n        \"description\": \"\"\n      }\n    },\n    {\n      \"column\": \"mean\",\n      \"properties\": {\n        \"dtype\": \"number\",\n        \"std\": 38758.27198576992,\n        \"min\": 0.1999,\n        \"max\": 204058.5266,\n        \"num_unique_values\": 28,\n        \"samples\": [\n          20.2055\n        ],\n        \"semantic_type\": \"\",\n        \"description\": \"\"\n      }\n    },\n    {\n      \"column\": \"std\",\n      \"properties\": {\n        \"dtype\": \"number\",\n        \"std\": 8662.65992839493,\n        \"min\": 0.2594319759935031,\n        \"max\": 30203.127990574732,\n        \"num_unique_values\": 28,\n        \"samples\": [\n          9.25129333622274\n        ],\n        \"semantic_type\": \"\",\n        \"description\": \"\"\n      }\n    },\n    {\n      \"column\": \"min\",\n      \"properties\": {\n        \"dtype\": \"number\",\n        \"std\": 23275.803976851865,\n        \"min\": 0.0,\n        \"max\": 123271.0,\n        \"num_unique_values\": 25,\n        \"samples\": [\n          10.159316625522273\n        ],\n        \"semantic_type\": \"\",\n        \"description\": \"\"\n      }\n    },\n    {\n      \"column\": \"25%\",\n      \"properties\": {\n        \"dtype\": \"number\",\n        \"std\": 35487.89599007557,\n        \"min\": 0.0,\n        \"max\": 188055.5,\n        \"num_unique_values\": 28,\n        \"samples\": [\n          13.0\n        ],\n        \"semantic_type\": \"\",\n        \"description\": \"\"\n      }\n    },\n    {\n      \"column\": \"50%\",\n      \"properties\": {\n        \"dtype\": \"number\",\n        \"std\": 38741.26444401152,\n        \"min\": 0.0,\n        \"max\": 203847.5,\n        \"num_unique_values\": 28,\n        \"samples\": [\n          20.0\n        ],\n        \"semantic_type\": \"\",\n        \"description\": \"\"\n      }\n    },\n    {\n      \"column\": \"75%\",\n      \"properties\": {\n        \"dtype\": \"number\",\n        \"std\": 42353.32291295598,\n        \"min\": 0.0,\n        \"max\": 220545.0,\n        \"num_unique_values\": 28,\n        \"samples\": [\n          26.0\n        ],\n        \"semantic_type\": \"\",\n        \"description\": \"\"\n      }\n    },\n    {\n      \"column\": \"max\",\n      \"properties\": {\n        \"dtype\": \"number\",\n        \"std\": 72310.96196235895,\n        \"min\": 0.8998081428401397,\n        \"max\": 299451.0,\n        \"num_unique_values\": 28,\n        \"samples\": [\n          57.0\n        ],\n        \"semantic_type\": \"\",\n        \"description\": \"\"\n      }\n    }\n  ]\n}"
            }
          },
          "metadata": {},
          "execution_count": 15
        }
      ]
    },
    {
      "cell_type": "code",
      "source": [],
      "metadata": {
        "id": "1sLXv8Rj8VSN"
      },
      "execution_count": null,
      "outputs": []
    },
    {
      "cell_type": "markdown",
      "source": [
        "# Data Visualization"
      ],
      "metadata": {
        "id": "mmrvRetyGwhM"
      }
    },
    {
      "cell_type": "markdown",
      "source": [
        "### importing libraries for data visualization"
      ],
      "metadata": {
        "id": "mJwXdd7bHDkl"
      }
    },
    {
      "cell_type": "code",
      "source": [
        "import matplotlib.pyplot as plt\n",
        "import seaborn as sns"
      ],
      "metadata": {
        "id": "HNJBzshtG5AW"
      },
      "execution_count": null,
      "outputs": []
    },
    {
      "cell_type": "code",
      "source": [
        "dataframe.info()"
      ],
      "metadata": {
        "colab": {
          "base_uri": "https://localhost:8080/"
        },
        "id": "K-pLaxmNHRE2",
        "outputId": "a0a8a995-32ab-4544-9023-0744a2583820"
      },
      "execution_count": null,
      "outputs": [
        {
          "output_type": "stream",
          "name": "stdout",
          "text": [
            "<class 'pandas.core.frame.DataFrame'>\n",
            "RangeIndex: 10000 entries, 0 to 9999\n",
            "Data columns (total 35 columns):\n",
            " #   Column                                         Non-Null Count  Dtype  \n",
            "---  ------                                         --------------  -----  \n",
            " 0   transaction_time                               10000 non-null  int64  \n",
            " 1   customer_per_transaction_time_mean             10000 non-null  float64\n",
            " 2   transaction_scroll_distance                    10000 non-null  int64  \n",
            " 3   customer_per_transaction_scroll_distance_mean  10000 non-null  float64\n",
            " 4   customer_per_transaction_click_mean            10000 non-null  float64\n",
            " 5   transaction_click                              10000 non-null  int64  \n",
            " 6   app_leave_count                                10000 non-null  int64  \n",
            " 7   transaction_screen_pressure_mean_per_page      10000 non-null  float64\n",
            " 8   customer_screen_pressure_mean_per_page         10000 non-null  float64\n",
            " 9   distance_from_last_transaction                 10000 non-null  int64  \n",
            " 10  new_old_balance_ratio_orig                     10000 non-null  float64\n",
            " 11  old_new_balance_ratio_dest                     10000 non-null  float64\n",
            " 12  total_income_per_year                          10000 non-null  int64  \n",
            " 13  dest_last_24h_transaction_count                10000 non-null  int64  \n",
            " 14  transaction_type                               10000 non-null  object \n",
            " 15  transaction_page_count                         10000 non-null  int64  \n",
            " 16  transaction_time_mean                          10000 non-null  float64\n",
            " 17  transaction_scroll_distance_mean               10000 non-null  float64\n",
            " 18  trasaction_per_page_click_mean                 10000 non-null  float64\n",
            " 19  customer_per_page_scroll_distance_mean         10000 non-null  float64\n",
            " 20  customer_per_page_time_mean                    10000 non-null  float64\n",
            " 21  customer_per_page_click_mean                   10000 non-null  float64\n",
            " 22  customer_transaction_amount_mean               10000 non-null  int64  \n",
            " 23  onphone                                        10000 non-null  int64  \n",
            " 24  device_type                                    10000 non-null  object \n",
            " 25  application_type                               10000 non-null  object \n",
            " 26  customer_orig_id                               10000 non-null  int64  \n",
            " 27  customer_dest_id                               10000 non-null  int64  \n",
            " 28  customer_education_level                       10000 non-null  object \n",
            " 29  amount_type                                    10000 non-null  object \n",
            " 30  transaction_amount                             10000 non-null  int64  \n",
            " 31  ratio_currTran_to_cust_mean_amount             10000 non-null  float64\n",
            " 32  customer_orig_assets                           10000 non-null  object \n",
            " 33  customer_orig_age                              10000 non-null  int64  \n",
            " 34  customer_age_categorical                       10000 non-null  object \n",
            "dtypes: float64(14), int64(14), object(7)\n",
            "memory usage: 2.7+ MB\n"
          ]
        }
      ]
    },
    {
      "cell_type": "markdown",
      "source": [
        "### Charts about customer personal informations"
      ],
      "metadata": {
        "id": "JM2wdQJZKrE0"
      }
    },
    {
      "cell_type": "code",
      "source": [
        "dataframe[\"customer_education_level\"].value_counts().loc[edu_types].plot(kind='bar')\n",
        "plt.xlabel('Customer Education Level')\n",
        "plt.ylabel('Count')\n",
        "plt.title('Distribution of Customer Education Types')\n",
        "plt.show()\n"
      ],
      "metadata": {
        "colab": {
          "base_uri": "https://localhost:8080/"
        },
        "id": "e6F_q8DbH5g2",
        "outputId": "cd40e8e4-61fe-497f-8c41-1cedc6fb403c"
      },
      "execution_count": null,
      "outputs": [
        {
          "output_type": "display_data",
          "data": {
            "text/plain": [
              "<Figure size 640x480 with 1 Axes>"
            ],
            "image/png": "[encoded data removed]"
          },
          "metadata": {}
        }
      ]
    },
    {
      "cell_type": "code",
      "source": [
        "dataframe[\"customer_orig_assets\"].value_counts().loc[customer_income_level].plot(kind='bar')\n",
        "plt.xlabel('Customer Asset Level')\n",
        "plt.ylabel('Count')\n",
        "plt.title('Distribution of Customer Asset Levels')\n",
        "plt.show()\n"
      ],
      "metadata": {
        "colab": {
          "base_uri": "https://localhost:8080/"
        },
        "id": "vCPr9zS7KLhF",
        "outputId": "b6d37b02-ab2a-442e-9a87-dcf6e3250629"
      },
      "execution_count": null,
      "outputs": [
        {
          "output_type": "display_data",
          "data": {
            "text/plain": [
              "<Figure size 640x480 with 1 Axes>"
            ],
            "image/png": "[encoded data removed]"
          },
          "metadata": {}
        }
      ]
    },
    {
      "cell_type": "code",
      "source": [
        "age_order = list(customer_ages_dict.keys())\n",
        "dataframe[\"customer_age_categorical\"].value_counts().loc[age_order].plot(kind='bar')\n",
        "plt.xlabel('Customer Age')\n",
        "plt.ylabel('Count')\n",
        "plt.title('Distribution of Customer Ages')\n",
        "plt.show()\n"
      ],
      "metadata": {
        "colab": {
          "base_uri": "https://localhost:8080/"
        },
        "id": "DhexwQqxK2qN",
        "outputId": "e1784eb4-a286-4269-f14e-66dcdecedd54"
      },
      "execution_count": null,
      "outputs": [
        {
          "output_type": "display_data",
          "data": {
            "text/plain": [
              "<Figure size 640x480 with 1 Axes>"
            ],
            "image/png": "[encoded data removed]"
          },
          "metadata": {}
        }
      ]
    },
    {
      "cell_type": "code",
      "source": [
        "sns.displot(dataframe['total_income_per_year'], kind='hist', kde=True)\n",
        "plt.xlabel('Total Income Per Year')\n",
        "plt.ylabel('Density')\n",
        "plt.title('Distribution of Total Income Per Year')\n",
        "plt.show()\n"
      ],
      "metadata": {
        "colab": {
          "base_uri": "https://localhost:8080/"
        },
        "id": "6tGRTzgQP_Da",
        "outputId": "d1f95672-d098-4e78-eeb5-050117ab63e6"
      },
      "execution_count": null,
      "outputs": [
        {
          "output_type": "display_data",
          "data": {
            "text/plain": [
              "<Figure size 500x500 with 1 Axes>"
            ],
            "image/png": "[encoded data removed]"
          },
          "metadata": {}
        }
      ]
    },
    {
      "cell_type": "markdown",
      "source": [
        "### Charts about application types and usage"
      ],
      "metadata": {
        "id": "-U97nJi1OqGB"
      }
    },
    {
      "cell_type": "code",
      "source": [
        "app_type_counts = dataframe['application_type'].value_counts()\n",
        "device_type_counts = dataframe['device_type'].value_counts()\n",
        "onphone_counts = dataframe['onphone'].value_counts()\n",
        "\n",
        "fig, (ax1, ax2, ax3) = plt.subplots(1, 3, figsize=(15, 5))\n",
        "\n",
        "ax1.pie(app_type_counts, labels=app_type_counts.index[::-1], autopct='%1.1f%%', startangle=90)\n",
        "ax1.set_title('Application Type')\n",
        "\n",
        "ax2.pie(device_type_counts, labels=device_type_counts.index[::-1], autopct='%1.1f%%', startangle=90)\n",
        "ax2.set_title('Device Type')\n",
        "\n",
        "ax3.pie(onphone_counts, labels=['Not on Phone', 'On Phone'], autopct='%1.1f%%', startangle=90)\n",
        "ax3.set_title('On Phone')\n",
        "\n",
        "plt.show()"
      ],
      "metadata": {
        "colab": {
          "base_uri": "https://localhost:8080/"
        },
        "id": "_aTmUsReYKJu",
        "outputId": "a440d09e-b090-490a-fae7-262e33447607"
      },
      "execution_count": null,
      "outputs": [
        {
          "output_type": "display_data",
          "data": {
            "text/plain": [
              "<Figure size 1500x500 with 3 Axes>"
            ],
            "image/png": "[encoded data removed]"
          },
          "metadata": {}
        }
      ]
    },
    {
      "cell_type": "code",
      "source": [
        "\n",
        "dataframe['app_leave_count'].value_counts().plot(kind='bar')\n",
        "plt.xlabel('App Leave Count')\n",
        "plt.ylabel('Count')\n",
        "plt.title('Distribution of App Leave Counts')\n",
        "plt.show()\n"
      ],
      "metadata": {
        "colab": {
          "base_uri": "https://localhost:8080/"
        },
        "id": "_keIDYI7Psfd",
        "outputId": "1d43ec9a-797f-44ba-b5d9-3951d1bd5600"
      },
      "execution_count": null,
      "outputs": [
        {
          "output_type": "display_data",
          "data": {
            "text/plain": [
              "<Figure size 640x480 with 1 Axes>"
            ],
            "image/png": "[encoded data removed]"
          },
          "metadata": {}
        }
      ]
    },
    {
      "cell_type": "markdown",
      "source": [
        "### Charts about transaction type and amount"
      ],
      "metadata": {
        "id": "4F4zN_fsR27E"
      }
    },
    {
      "cell_type": "code",
      "source": [
        "dataframe['transaction_type'].value_counts().plot(kind='pie', autopct='%1.1f%%')\n",
        "plt.title('Distribution of Transaction Types')\n",
        "plt.ylabel('')\n",
        "plt.show()\n"
      ],
      "metadata": {
        "colab": {
          "base_uri": "https://localhost:8080/"
        },
        "id": "lfCGY3ImSL5S",
        "outputId": "e101e6a5-63e3-4cd5-c855-15959b9b3301"
      },
      "execution_count": null,
      "outputs": [
        {
          "output_type": "display_data",
          "data": {
            "text/plain": [
              "<Figure size 640x480 with 1 Axes>"
            ],
            "image/png": "[encoded data removed]"
          },
          "metadata": {}
        }
      ]
    },
    {
      "cell_type": "code",
      "source": [],
      "metadata": {
        "id": "GqjE3G8eSnWQ"
      },
      "execution_count": null,
      "outputs": []
    },
    {
      "cell_type": "code",
      "source": [
        "fig, axes = plt.subplots(1, len(dataframe[\"transaction_type\"].unique()), figsize=(15, 5))\n",
        "\n",
        "for i, transaction_type in enumerate(dataframe[\"transaction_type\"].unique()):\n",
        "    sns.histplot(data=dataframe[dataframe['transaction_type'] == transaction_type], x='customer_transaction_amount_mean', kde=True, ax=axes[i])\n",
        "    axes[i].set_title(f\"Customer Transaction Amount Mean for {transaction_type}\")\n",
        "    axes[i].set_xlabel(\"Mean Transaction Amount\")\n",
        "    axes[i].set_ylabel(\"Frequency\")\n",
        "\n",
        "plt.tight_layout()\n",
        "plt.show()"
      ],
      "metadata": {
        "colab": {
          "base_uri": "https://localhost:8080/"
        },
        "id": "YYmfbT0dR_Ld",
        "outputId": "de8b9ee8-e152-483e-b277-16ad254df437"
      },
      "execution_count": null,
      "outputs": [
        {
          "output_type": "display_data",
          "data": {
            "text/plain": [
              "<Figure size 1500x500 with 3 Axes>"
            ],
            "image/png": "[encoded data removed]"
          },
          "metadata": {}
        }
      ]
    },
    {
      "cell_type": "markdown",
      "source": [],
      "metadata": {
        "id": "lPU9YyNRYUxG"
      }
    },
    {
      "cell_type": "markdown",
      "source": [
        "❌ NOT\n",
        "\n",
        "\n",
        "####**Bu veri setinde age ve amount için kategorik değişkenler de var- yani önceki veri setinden 2 kolon fazla**\n",
        "\n",
        "\n"
      ],
      "metadata": {
        "id": "IJad2pMdeWe2"
      }
    },
    {
      "cell_type": "code",
      "source": [],
      "metadata": {
        "id": "2ujHca-He04h"
      },
      "execution_count": null,
      "outputs": []
    },
    {
      "cell_type": "markdown",
      "source": [
        "# Labeling Data"
      ],
      "metadata": {
        "id": "ga5TWKshe4U9"
      }
    },
    {
      "cell_type": "markdown",
      "source": [
        "### Create isFraud feature"
      ],
      "metadata": {
        "id": "jJ2_uKSNfXjP"
      }
    },
    {
      "cell_type": "code",
      "source": [
        "dataframe[\"isFraud\"] = np.zeros(data_sample_size)"
      ],
      "metadata": {
        "id": "mz_bGN4bfWLA"
      },
      "execution_count": null,
      "outputs": []
    },
    {
      "cell_type": "code",
      "source": [
        "# senaryo 1\n",
        "scenario_1_filtered = dataframe[\n",
        "                        (dataframe['customer_orig_age'] > 52 ) & (dataframe['customer_orig_age'] < 60 ) &\n",
        "                        (dataframe['transaction_type'] == \"transfer\" )\n",
        "                        ]\n",
        "\n",
        "part1 = int(len(scenario_1_filtered)/3)\n",
        "\n",
        "for index, row in scenario_1_filtered.head(part1).iterrows():\n",
        "    dataframe.at[index, \"customer_transaction_amount_mean\"] = np.random.randint(2_000, 3_000, 1)[0]\n",
        "    dataframe.at[index, \"transaction_amount\"] = np.random.randint(14_000, 18_000, 1)[0]\n",
        "    dataframe.at[index, \"customer_per_transaction_time_mean\"] = np.random.randint(85, 95, 1)[0]\n",
        "    dataframe.at[index, \"transaction_time\"] = np.random.randint(35, 45, 1)[0]\n",
        "    dataframe.at[index, \"dest_last_24h_transaction_count\"] = np.random.randint(10, 15, 1)[0]\n",
        "    dataframe.at[index, \"isFraud\"] = int(1)\n",
        "    dataframe.at[index, \"senaryo\"] = int(1)\n",
        "\n"
      ],
      "metadata": {
        "id": "P1NS0y6Wfeea"
      },
      "execution_count": null,
      "outputs": []
    },
    {
      "cell_type": "code",
      "source": [
        "# senaryo 2\n",
        "scenario_2_filtered = dataframe[\n",
        "                        (dataframe['customer_screen_pressure_mean_per_page'] < dataframe['transaction_screen_pressure_mean_per_page'] ) &\n",
        "                        (dataframe['transaction_type'] == \"transfer\" ) &\n",
        "                        (dataframe['onphone'] == 1 )\n",
        "                        ]\n",
        "\n",
        "part2 = int(len(scenario_2_filtered) /4)\n",
        "\n",
        "for index, row in scenario_2_filtered.head(part2).iterrows():\n",
        "    dataframe.at[index, \"customer_transaction_amount_mean\"] = np.random.randint(10_000, 18_000, 1)[0]\n",
        "    dataframe.at[index, \"customer_per_transaction_click_mean\"] = np.random.randint(15, 20, 1)[0]\n",
        "    dataframe.at[index, \"transaction_amount\"] = np.random.randint(50_000, 70_000, 1)[0]\n",
        "    dataframe.at[index, \"transaction_click\"] = np.random.randint(8, 12, 1)[0]\n",
        "    dataframe.at[index, \"new_old_balance_ratio_orig\"] = np.random.uniform(0, 0.5, 1)[0]\n",
        "    dataframe.at[index, \"isFraud\"] = int(1)\n",
        "    dataframe.at[index, \"senaryo\"] = int(2)"
      ],
      "metadata": {
        "id": "sCVBLYiIfgzD"
      },
      "execution_count": null,
      "outputs": []
    },
    {
      "cell_type": "code",
      "source": [
        "# senaryo 3\n",
        "scenario_3_filtered = dataframe[\n",
        "                        (dataframe['customer_screen_pressure_mean_per_page'] > dataframe['transaction_screen_pressure_mean_per_page'] ) &\n",
        "                        (dataframe['customer_per_transaction_scroll_distance_mean'] < dataframe['transaction_scroll_distance'] ) &\n",
        "                        (dataframe['transaction_type'] == \"transfer\" )\n",
        "                        ]\n",
        "\n",
        "part3 = int(len(scenario_3_filtered)/6)\n",
        "\n",
        "for index, row in scenario_3_filtered.head(part3).iterrows():\n",
        "    dataframe.at[index, \"customer_transaction_amount_mean\"] = np.random.randint(500, 1_500, 1)[0]\n",
        "    dataframe.at[index, \"transaction_amount\"] = np.random.randint(500, 1_500, 1)[0]\n",
        "    dataframe.at[index, \"customer_per_transaction_time_mean\"] = np.random.randint(15, 20, 1)[0]\n",
        "    dataframe.at[index, \"transaction_time\"] = np.random.randint(80, 90, 1)[0]\n",
        "    dataframe.at[index, \"app_leave_count\"] = np.random.randint(4, 8, 1)[0]\n",
        "    dataframe.at[index, \"new_old_balance_ratio_orig\"] = np.random.uniform(0, 0.25, 1)[0]\n",
        "    dataframe.at[index, \"isFraud\"] = int(1)\n",
        "    dataframe.at[index, \"senaryo\"] = int(3)"
      ],
      "metadata": {
        "id": "annwYMyNfkXu"
      },
      "execution_count": null,
      "outputs": []
    },
    {
      "cell_type": "code",
      "source": [
        "# senaryo 4\n",
        "scenario_4_filtered = dataframe[\n",
        "                        ((dataframe['transaction_amount'] / dataframe['customer_transaction_amount_mean'] < 1)\n",
        "                        | (dataframe['customer_transaction_amount_mean'] / dataframe['transaction_amount'] < 1)) &\n",
        "                        (dataframe['customer_per_transaction_scroll_distance_mean'] < dataframe['transaction_scroll_distance'] ) &\n",
        "                        (dataframe['transaction_type'] == \"transfer\" ) &\n",
        "                        (dataframe['customer_screen_pressure_mean_per_page'] < dataframe['transaction_screen_pressure_mean_per_page'])\n",
        "                        ]\n",
        "\n",
        "part4 = int(len(scenario_4_filtered) /3 )\n",
        "\n",
        "for index, row in scenario_4_filtered.head(part4).iterrows():\n",
        "    dataframe.at[index, \"customer_per_transaction_click_mean\"] = np.random.randint(10, 18, 1)[0]\n",
        "    dataframe.at[index, \"transaction_click\"] = np.random.randint(8, 15, 1)[0]\n",
        "    dataframe.at[index, \"customer_per_transaction_time_mean\"] = np.random.randint(20, 30, 1)[0]\n",
        "    dataframe.at[index, \"transaction_time\"] = np.random.randint(15, 25, 1)[0]\n",
        "    dataframe.at[index, \"dest_last_24h_transaction_count\"] = np.random.randint(5, 10, 1)[0]\n",
        "    dataframe.at[index, \"isFraud\"] = int(1)\n",
        "    dataframe.at[index, \"senaryo\"] = int(4)\n",
        "\n"
      ],
      "metadata": {
        "id": "8JPE4tAjfAFK"
      },
      "execution_count": null,
      "outputs": []
    },
    {
      "cell_type": "code",
      "source": [
        "# senaryo 5\n",
        "scenario_5_filtered = dataframe[\n",
        "                        (dataframe['transaction_type'] == \"credit\" ) &\n",
        "                        ((dataframe['transaction_amount'] / dataframe['customer_transaction_amount_mean'] < 1)\n",
        "                        | (dataframe['customer_transaction_amount_mean'] / dataframe['transaction_amount'] < 1)) &\n",
        "                        ((dataframe['customer_per_transaction_click_mean'] / dataframe['transaction_click'] < 1)\n",
        "                        | (dataframe['transaction_click'] / dataframe['customer_per_transaction_click_mean'] < 1)) &\n",
        "                        ((dataframe['customer_per_transaction_time_mean'] / dataframe['transaction_time'] < 1)\n",
        "                        | (dataframe['transaction_time'] / dataframe['customer_per_transaction_time_mean'] < 1))\n",
        "                        ]\n",
        "\n",
        "part5 = int(len(scenario_5_filtered)/5)\n",
        "\n",
        "for index, row in scenario_5_filtered.head(part5).iterrows():\n",
        "    dataframe.at[index, \"transaction_scroll_distance\"] = np.random.randint(200, 1_800, 1)[0]\n",
        "    dataframe.at[index, \"customer_per_transaction_time_mean\"] = dataframe.at[index, \"transaction_scroll_distance\"] * np.random.uniform(1.4, 2, 1)[0]\n",
        "    dataframe.at[index, \"isFraud\"] = int(1)\n",
        "    dataframe.at[index, \"senaryo\"] = int(5)\n",
        "\n",
        "\n"
      ],
      "metadata": {
        "id": "yj_NJ2Dgfo-S"
      },
      "execution_count": null,
      "outputs": []
    },
    {
      "cell_type": "code",
      "source": [
        "dataframe.info()"
      ],
      "metadata": {
        "colab": {
          "base_uri": "https://localhost:8080/"
        },
        "id": "Z9VMuUVFfpgi",
        "outputId": "d9854963-b9a5-464e-f630-b1e56fe76693"
      },
      "execution_count": null,
      "outputs": [
        {
          "output_type": "stream",
          "name": "stdout",
          "text": [
            "<class 'pandas.core.frame.DataFrame'>\n",
            "RangeIndex: 10000 entries, 0 to 9999\n",
            "Data columns (total 37 columns):\n",
            " #   Column                                         Non-Null Count  Dtype  \n",
            "---  ------                                         --------------  -----  \n",
            " 0   transaction_time                               10000 non-null  int64  \n",
            " 1   customer_per_transaction_time_mean             10000 non-null  float64\n",
            " 2   transaction_scroll_distance                    10000 non-null  int64  \n",
            " 3   customer_per_transaction_scroll_distance_mean  10000 non-null  float64\n",
            " 4   customer_per_transaction_click_mean            10000 non-null  float64\n",
            " 5   transaction_click                              10000 non-null  int64  \n",
            " 6   app_leave_count                                10000 non-null  int64  \n",
            " 7   transaction_screen_pressure_mean_per_page      10000 non-null  float64\n",
            " 8   customer_screen_pressure_mean_per_page         10000 non-null  float64\n",
            " 9   distance_from_last_transaction                 10000 non-null  int64  \n",
            " 10  new_old_balance_ratio_orig                     10000 non-null  float64\n",
            " 11  old_new_balance_ratio_dest                     10000 non-null  float64\n",
            " 12  total_income_per_year                          10000 non-null  int64  \n",
            " 13  dest_last_24h_transaction_count                10000 non-null  int64  \n",
            " 14  transaction_type                               10000 non-null  object \n",
            " 15  transaction_page_count                         10000 non-null  int64  \n",
            " 16  transaction_time_mean                          10000 non-null  float64\n",
            " 17  transaction_scroll_distance_mean               10000 non-null  float64\n",
            " 18  trasaction_per_page_click_mean                 10000 non-null  float64\n",
            " 19  customer_per_page_scroll_distance_mean         10000 non-null  float64\n",
            " 20  customer_per_page_time_mean                    10000 non-null  float64\n",
            " 21  customer_per_page_click_mean                   10000 non-null  float64\n",
            " 22  customer_transaction_amount_mean               10000 non-null  int64  \n",
            " 23  onphone                                        10000 non-null  int64  \n",
            " 24  device_type                                    10000 non-null  object \n",
            " 25  application_type                               10000 non-null  object \n",
            " 26  customer_orig_id                               10000 non-null  int64  \n",
            " 27  customer_dest_id                               10000 non-null  int64  \n",
            " 28  customer_education_level                       10000 non-null  object \n",
            " 29  amount_type                                    10000 non-null  object \n",
            " 30  transaction_amount                             10000 non-null  int64  \n",
            " 31  ratio_currTran_to_cust_mean_amount             10000 non-null  float64\n",
            " 32  customer_orig_assets                           10000 non-null  object \n",
            " 33  customer_orig_age                              10000 non-null  int64  \n",
            " 34  customer_age_categorical                       10000 non-null  object \n",
            " 35  isFraud                                        10000 non-null  float64\n",
            " 36  senaryo                                        1157 non-null   float64\n",
            "dtypes: float64(16), int64(14), object(7)\n",
            "memory usage: 2.8+ MB\n"
          ]
        }
      ]
    },
    {
      "cell_type": "code",
      "source": [
        "print(len(scenario_1_filtered))\n",
        "\n",
        "print(len(scenario_2_filtered))\n",
        "\n",
        "print(len(scenario_3_filtered))\n",
        "\n",
        "print(len(scenario_4_filtered))\n",
        "\n",
        "print(len(scenario_5_filtered))\n",
        "\n",
        "dataframe[dataframe[\"isFraud\"] == 1].shape[0]"
      ],
      "metadata": {
        "colab": {
          "base_uri": "https://localhost:8080/"
        },
        "id": "3PEQkqf1gGLp",
        "outputId": "20e74461-df2b-499d-c524-2e1951836163"
      },
      "execution_count": null,
      "outputs": [
        {
          "output_type": "stream",
          "name": "stdout",
          "text": [
            "249\n",
            "334\n",
            "853\n",
            "803\n",
            "3288\n"
          ]
        },
        {
          "output_type": "execute_result",
          "data": {
            "text/plain": [
              "1157"
            ]
          },
          "metadata": {},
          "execution_count": 33
        }
      ]
    },
    {
      "cell_type": "markdown",
      "source": [
        "# Encode Features"
      ],
      "metadata": {
        "id": "4BZDERz9i913"
      }
    },
    {
      "cell_type": "code",
      "source": [
        "from sklearn.compose import ColumnTransformer\n",
        "from sklearn.pipeline import Pipeline\n",
        "from sklearn.preprocessing import OneHotEncoder, StandardScaler\n",
        "from sklearn.preprocessing import LabelEncoder\n",
        "\n",
        "from sklearn.model_selection import train_test_split"
      ],
      "metadata": {
        "id": "4IyqYqMEjb6R"
      },
      "execution_count": null,
      "outputs": []
    },
    {
      "cell_type": "code",
      "source": [
        "encoded_dataframe = dataframe.copy()\n",
        "\n",
        "\n",
        "encoded_dataframe = encoded_dataframe.drop(columns=['customer_orig_id', 'customer_dest_id',\"customer_age_categorical\",\"senaryo\"])\n",
        "\n",
        "categorical_features = ['customer_orig_assets', 'amount_type', 'customer_education_level', 'application_type', 'device_type', 'transaction_type','customer_age_categorical']\n",
        "numerical_features = [col for col in encoded_dataframe.columns if col not in categorical_features and col != 'isFraud' and col != 'senaryo']"
      ],
      "metadata": {
        "id": "qgLrBgqRhwER"
      },
      "execution_count": null,
      "outputs": []
    },
    {
      "cell_type": "code",
      "source": [
        "\n",
        "encoded_dataframe = pd.concat([encoded_dataframe, pd.get_dummies(encoded_dataframe['customer_education_level'], prefix='edu_type__', dtype=int)], axis=1)\n",
        "encoded_dataframe = encoded_dataframe.drop('customer_education_level', axis=1)\n",
        "\n",
        "encoded_dataframe = pd.concat([encoded_dataframe, pd.get_dummies(encoded_dataframe['application_type'], prefix='application_type__', dtype=int)], axis=1)\n",
        "encoded_dataframe = encoded_dataframe.drop('application_type', axis=1)\n",
        "\n",
        "encoded_dataframe = pd.concat([encoded_dataframe, pd.get_dummies(encoded_dataframe['device_type'], prefix='device_type__', dtype=int)], axis=1)\n",
        "encoded_dataframe = encoded_dataframe.drop('device_type', axis=1)\n",
        "\n",
        "encoded_dataframe = pd.concat([encoded_dataframe, pd.get_dummies(encoded_dataframe['transaction_type'], prefix='transaction_type__', dtype=int)], axis=1)\n",
        "encoded_dataframe = encoded_dataframe.drop('transaction_type', axis=1)\n",
        "\n",
        "\n",
        "le = LabelEncoder()\n",
        "encoded_dataframe['customer_orig_assets'] = le.fit_transform(encoded_dataframe['customer_orig_assets'])\n",
        "encoded_dataframe['amount_type'] = le.fit_transform(encoded_dataframe['amount_type'])"
      ],
      "metadata": {
        "id": "_HYC-vYg49Bu"
      },
      "execution_count": null,
      "outputs": []
    },
    {
      "cell_type": "code",
      "source": [
        "# Ön işleme ve model pipeline'ı oluşturma\n",
        "preprocessor = ColumnTransformer(\n",
        "    transformers=[\n",
        "        ('num', StandardScaler(), numerical_features),\n",
        "        ('cat', OneHotEncoder(drop='first'), categorical_features)\n",
        "    ])\n"
      ],
      "metadata": {
        "id": "fkxwqA6fjQ1S"
      },
      "execution_count": null,
      "outputs": []
    },
    {
      "cell_type": "code",
      "source": [
        "le = LabelEncoder()\n",
        "dataframe['customer_orig_assets'] = le.fit_transform(dataframe['customer_orig_assets'])\n",
        "dataframe['amount_type'] = le.fit_transform(dataframe['amount_type'])\n",
        "\n",
        "X = dataframe.drop(columns=['isFraud'])\n",
        "X = dataframe.drop(columns=['senaryo'])\n",
        "\n",
        "X.info()\n",
        "y = dataframe['isFraud']\n",
        "X_train, X_test, y_train, y_test = train_test_split(X, y, test_size=0.3, random_state=0)"
      ],
      "metadata": {
        "colab": {
          "base_uri": "https://localhost:8080/"
        },
        "id": "VEQtGLUzj4kf",
        "outputId": "40014705-ae46-4d5e-897d-fb110a829307"
      },
      "execution_count": null,
      "outputs": [
        {
          "output_type": "stream",
          "name": "stdout",
          "text": [
            "<class 'pandas.core.frame.DataFrame'>\n",
            "RangeIndex: 10000 entries, 0 to 9999\n",
            "Data columns (total 36 columns):\n",
            " #   Column                                         Non-Null Count  Dtype  \n",
            "---  ------                                         --------------  -----  \n",
            " 0   transaction_time                               10000 non-null  int64  \n",
            " 1   customer_per_transaction_time_mean             10000 non-null  float64\n",
            " 2   transaction_scroll_distance                    10000 non-null  int64  \n",
            " 3   customer_per_transaction_scroll_distance_mean  10000 non-null  float64\n",
            " 4   customer_per_transaction_click_mean            10000 non-null  float64\n",
            " 5   transaction_click                              10000 non-null  int64  \n",
            " 6   app_leave_count                                10000 non-null  int64  \n",
            " 7   transaction_screen_pressure_mean_per_page      10000 non-null  float64\n",
            " 8   customer_screen_pressure_mean_per_page         10000 non-null  float64\n",
            " 9   distance_from_last_transaction                 10000 non-null  int64  \n",
            " 10  new_old_balance_ratio_orig                     10000 non-null  float64\n",
            " 11  old_new_balance_ratio_dest                     10000 non-null  float64\n",
            " 12  total_income_per_year                          10000 non-null  int64  \n",
            " 13  dest_last_24h_transaction_count                10000 non-null  int64  \n",
            " 14  transaction_type                               10000 non-null  object \n",
            " 15  transaction_page_count                         10000 non-null  int64  \n",
            " 16  transaction_time_mean                          10000 non-null  float64\n",
            " 17  transaction_scroll_distance_mean               10000 non-null  float64\n",
            " 18  trasaction_per_page_click_mean                 10000 non-null  float64\n",
            " 19  customer_per_page_scroll_distance_mean         10000 non-null  float64\n",
            " 20  customer_per_page_time_mean                    10000 non-null  float64\n",
            " 21  customer_per_page_click_mean                   10000 non-null  float64\n",
            " 22  customer_transaction_amount_mean               10000 non-null  int64  \n",
            " 23  onphone                                        10000 non-null  int64  \n",
            " 24  device_type                                    10000 non-null  object \n",
            " 25  application_type                               10000 non-null  object \n",
            " 26  customer_orig_id                               10000 non-null  int64  \n",
            " 27  customer_dest_id                               10000 non-null  int64  \n",
            " 28  customer_education_level                       10000 non-null  object \n",
            " 29  amount_type                                    10000 non-null  int64  \n",
            " 30  transaction_amount                             10000 non-null  int64  \n",
            " 31  ratio_currTran_to_cust_mean_amount             10000 non-null  float64\n",
            " 32  customer_orig_assets                           10000 non-null  int64  \n",
            " 33  customer_orig_age                              10000 non-null  int64  \n",
            " 34  customer_age_categorical                       10000 non-null  object \n",
            " 35  isFraud                                        10000 non-null  float64\n",
            "dtypes: float64(15), int64(16), object(5)\n",
            "memory usage: 2.7+ MB\n"
          ]
        }
      ]
    },
    {
      "cell_type": "markdown",
      "source": [
        "# Models"
      ],
      "metadata": {
        "id": "x_jHrJdfjttN"
      }
    },
    {
      "cell_type": "markdown",
      "source": [
        "### Random Forest"
      ],
      "metadata": {
        "id": "Na9thDe3k3Bf"
      }
    },
    {
      "cell_type": "code",
      "source": [
        "from sklearn.metrics import roc_auc_score, accuracy_score\n",
        "from sklearn.ensemble import RandomForestClassifier\n",
        "from sklearn.metrics import confusion_matrix,accuracy_score, precision_score, recall_score, f1_score\n",
        "from sklearn.model_selection import cross_val_score\n",
        "import seaborn as sns"
      ],
      "metadata": {
        "id": "FON9ad2Wk6XY"
      },
      "execution_count": null,
      "outputs": []
    },
    {
      "cell_type": "code",
      "source": [
        "model = Pipeline(steps=[\n",
        "    ('preprocessor', preprocessor),\n",
        "    ('classifier', RandomForestClassifier())\n",
        "])\n",
        "model.fit(X_train, y_train)"
      ],
      "metadata": {
        "colab": {
          "base_uri": "https://localhost:8080/",
          "height": 192
        },
        "id": "9h40C0ztk2Sw",
        "outputId": "6a96b714-3110-4c35-d2e0-5a2bf6daeffe"
      },
      "execution_count": null,
      "outputs": [
        {
          "output_type": "execute_result",
          "data": {
            "text/plain": [
              "Pipeline(steps=[('preprocessor',\n",
              "                 ColumnTransformer(transformers=[('num', StandardScaler(),\n",
              "                                                  ['transaction_time',\n",
              "                                                   'customer_per_transaction_time_mean',\n",
              "                                                   'transaction_scroll_distance',\n",
              "                                                   'customer_per_transaction_scroll_distance_mean',\n",
              "                                                   'customer_per_transaction_click_mean',\n",
              "                                                   'transaction_click',\n",
              "                                                   'app_leave_count',\n",
              "                                                   'transaction_screen_pressure_mean_per_page',\n",
              "                                                   'custom...\n",
              "                                                   'customer_transaction_amount_mean',\n",
              "                                                   'onphone',\n",
              "                                                   'transaction_amount',\n",
              "                                                   'ratio_currTran_to_cust_mean_amount',\n",
              "                                                   'customer_orig_age']),\n",
              "                                                 ('cat',\n",
              "                                                  OneHotEncoder(drop='first'),\n",
              "                                                  ['customer_orig_assets',\n",
              "                                                   'amount_type',\n",
              "                                                   'customer_education_level',\n",
              "                                                   'application_type',\n",
              "                                                   'device_type',\n",
              "                                                   'transaction_type',\n",
              "                                                   'customer_age_categorical'])])),\n",
              "                ('classifier', RandomForestClassifier())])"
            ],
            "text/html": [
              "<style>#sk-container-id-1 {color: black;background-color: white;}#sk-container-id-1 pre{padding: 0;}#sk-container-id-1 div.sk-toggleable {background-color: white;}#sk-container-id-1 label.sk-toggleable__label {cursor: pointer;display: block;width: 100%;margin-bottom: 0;padding: 0.3em;box-sizing: border-box;text-align: center;}#sk-container-id-1 label.sk-toggleable__label-arrow:before {content: \"▸\";float: left;margin-right: 0.25em;color: #696969;}#sk-container-id-1 label.sk-toggleable__label-arrow:hover:before {color: black;}#sk-container-id-1 div.sk-estimator:hover label.sk-toggleable__label-arrow:before {color: black;}#sk-container-id-1 div.sk-toggleable__content {max-height: 0;max-width: 0;overflow: hidden;text-align: left;background-color: #f0f8ff;}#sk-container-id-1 div.sk-toggleable__content pre {margin: 0.2em;color: black;border-radius: 0.25em;background-color: #f0f8ff;}#sk-container-id-1 input.sk-toggleable__control:checked~div.sk-toggleable__content {max-height: 200px;max-width: 100%;overflow: auto;}#sk-container-id-1 input.sk-toggleable__control:checked~label.sk-toggleable__label-arrow:before {content: \"▾\";}#sk-container-id-1 div.sk-estimator input.sk-toggleable__control:checked~label.sk-toggleable__label {background-color: #d4ebff;}#sk-container-id-1 div.sk-label input.sk-toggleable__control:checked~label.sk-toggleable__label {background-color: #d4ebff;}#sk-container-id-1 input.sk-hidden--visually {border: 0;clip: rect(1px 1px 1px 1px);clip: rect(1px, 1px, 1px, 1px);height: 1px;margin: -1px;overflow: hidden;padding: 0;position: absolute;width: 1px;}#sk-container-id-1 div.sk-estimator {font-family: monospace;background-color: #f0f8ff;border: 1px dotted black;border-radius: 0.25em;box-sizing: border-box;margin-bottom: 0.5em;}#sk-container-id-1 div.sk-estimator:hover {background-color: #d4ebff;}#sk-container-id-1 div.sk-parallel-item::after {content: \"\";width: 100%;border-bottom: 1px solid gray;flex-grow: 1;}#sk-container-id-1 div.sk-label:hover label.sk-toggleable__label {background-color: #d4ebff;}#sk-container-id-1 div.sk-serial::before {content: \"\";position: absolute;border-left: 1px solid gray;box-sizing: border-box;top: 0;bottom: 0;left: 50%;z-index: 0;}#sk-container-id-1 div.sk-serial {display: flex;flex-direction: column;align-items: center;background-color: white;padding-right: 0.2em;padding-left: 0.2em;position: relative;}#sk-container-id-1 div.sk-item {position: relative;z-index: 1;}#sk-container-id-1 div.sk-parallel {display: flex;align-items: stretch;justify-content: center;background-color: white;position: relative;}#sk-container-id-1 div.sk-item::before, #sk-container-id-1 div.sk-parallel-item::before {content: \"\";position: absolute;border-left: 1px solid gray;box-sizing: border-box;top: 0;bottom: 0;left: 50%;z-index: -1;}#sk-container-id-1 div.sk-parallel-item {display: flex;flex-direction: column;z-index: 1;position: relative;background-color: white;}#sk-container-id-1 div.sk-parallel-item:first-child::after {align-self: flex-end;width: 50%;}#sk-container-id-1 div.sk-parallel-item:last-child::after {align-self: flex-start;width: 50%;}#sk-container-id-1 div.sk-parallel-item:only-child::after {width: 0;}#sk-container-id-1 div.sk-dashed-wrapped {border: 1px dashed gray;margin: 0 0.4em 0.5em 0.4em;box-sizing: border-box;padding-bottom: 0.4em;background-color: white;}#sk-container-id-1 div.sk-label label {font-family: monospace;font-weight: bold;display: inline-block;line-height: 1.2em;}#sk-container-id-1 div.sk-label-container {text-align: center;}#sk-container-id-1 div.sk-container {/* jupyter's `normalize.less` sets `[hidden] { display: none; }` but bootstrap.min.css set `[hidden] { display: none !important; }` so we also need the `!important` here to be able to override the default hidden behavior on the sphinx rendered scikit-learn.org. See: https://github.com/scikit-learn/scikit-learn/issues/21755 */display: inline-block !important;position: relative;}#sk-container-id-1 div.sk-text-repr-fallback {display: none;}</style><div id=\"sk-container-id-1\" class=\"sk-top-container\"><div class=\"sk-text-repr-fallback\"><pre>Pipeline(steps=[(&#x27;preprocessor&#x27;,\n",
              "                 ColumnTransformer(transformers=[(&#x27;num&#x27;, StandardScaler(),\n",
              "                                                  [&#x27;transaction_time&#x27;,\n",
              "                                                   &#x27;customer_per_transaction_time_mean&#x27;,\n",
              "                                                   &#x27;transaction_scroll_distance&#x27;,\n",
              "                                                   &#x27;customer_per_transaction_scroll_distance_mean&#x27;,\n",
              "                                                   &#x27;customer_per_transaction_click_mean&#x27;,\n",
              "                                                   &#x27;transaction_click&#x27;,\n",
              "                                                   &#x27;app_leave_count&#x27;,\n",
              "                                                   &#x27;transaction_screen_pressure_mean_per_page&#x27;,\n",
              "                                                   &#x27;custom...\n",
              "                                                   &#x27;customer_transaction_amount_mean&#x27;,\n",
              "                                                   &#x27;onphone&#x27;,\n",
              "                                                   &#x27;transaction_amount&#x27;,\n",
              "                                                   &#x27;ratio_currTran_to_cust_mean_amount&#x27;,\n",
              "                                                   &#x27;customer_orig_age&#x27;]),\n",
              "                                                 (&#x27;cat&#x27;,\n",
              "                                                  OneHotEncoder(drop=&#x27;first&#x27;),\n",
              "                                                  [&#x27;customer_orig_assets&#x27;,\n",
              "                                                   &#x27;amount_type&#x27;,\n",
              "                                                   &#x27;customer_education_level&#x27;,\n",
              "                                                   &#x27;application_type&#x27;,\n",
              "                                                   &#x27;device_type&#x27;,\n",
              "                                                   &#x27;transaction_type&#x27;,\n",
              "                                                   &#x27;customer_age_categorical&#x27;])])),\n",
              "                (&#x27;classifier&#x27;, RandomForestClassifier())])</pre><b>In a Jupyter environment, please rerun this cell to show the HTML representation or trust the notebook. <br />On GitHub, the HTML representation is unable to render, please try loading this page with nbviewer.org.</b></div><div class=\"sk-container\" hidden><div class=\"sk-item sk-dashed-wrapped\"><div class=\"sk-label-container\"><div class=\"sk-label sk-toggleable\"><input class=\"sk-toggleable__control sk-hidden--visually\" id=\"sk-estimator-id-1\" type=\"checkbox\" ><label for=\"sk-estimator-id-1\" class=\"sk-toggleable__label sk-toggleable__label-arrow\">Pipeline</label><div class=\"sk-toggleable__content\"><pre>Pipeline(steps=[(&#x27;preprocessor&#x27;,\n",
              "                 ColumnTransformer(transformers=[(&#x27;num&#x27;, StandardScaler(),\n",
              "                                                  [&#x27;transaction_time&#x27;,\n",
              "                                                   &#x27;customer_per_transaction_time_mean&#x27;,\n",
              "                                                   &#x27;transaction_scroll_distance&#x27;,\n",
              "                                                   &#x27;customer_per_transaction_scroll_distance_mean&#x27;,\n",
              "                                                   &#x27;customer_per_transaction_click_mean&#x27;,\n",
              "                                                   &#x27;transaction_click&#x27;,\n",
              "                                                   &#x27;app_leave_count&#x27;,\n",
              "                                                   &#x27;transaction_screen_pressure_mean_per_page&#x27;,\n",
              "                                                   &#x27;custom...\n",
              "                                                   &#x27;customer_transaction_amount_mean&#x27;,\n",
              "                                                   &#x27;onphone&#x27;,\n",
              "                                                   &#x27;transaction_amount&#x27;,\n",
              "                                                   &#x27;ratio_currTran_to_cust_mean_amount&#x27;,\n",
              "                                                   &#x27;customer_orig_age&#x27;]),\n",
              "                                                 (&#x27;cat&#x27;,\n",
              "                                                  OneHotEncoder(drop=&#x27;first&#x27;),\n",
              "                                                  [&#x27;customer_orig_assets&#x27;,\n",
              "                                                   &#x27;amount_type&#x27;,\n",
              "                                                   &#x27;customer_education_level&#x27;,\n",
              "                                                   &#x27;application_type&#x27;,\n",
              "                                                   &#x27;device_type&#x27;,\n",
              "                                                   &#x27;transaction_type&#x27;,\n",
              "                                                   &#x27;customer_age_categorical&#x27;])])),\n",
              "                (&#x27;classifier&#x27;, RandomForestClassifier())])</pre></div></div></div><div class=\"sk-serial\"><div class=\"sk-item sk-dashed-wrapped\"><div class=\"sk-label-container\"><div class=\"sk-label sk-toggleable\"><input class=\"sk-toggleable__control sk-hidden--visually\" id=\"sk-estimator-id-2\" type=\"checkbox\" ><label for=\"sk-estimator-id-2\" class=\"sk-toggleable__label sk-toggleable__label-arrow\">preprocessor: ColumnTransformer</label><div class=\"sk-toggleable__content\"><pre>ColumnTransformer(transformers=[(&#x27;num&#x27;, StandardScaler(),\n",
              "                                 [&#x27;transaction_time&#x27;,\n",
              "                                  &#x27;customer_per_transaction_time_mean&#x27;,\n",
              "                                  &#x27;transaction_scroll_distance&#x27;,\n",
              "                                  &#x27;customer_per_transaction_scroll_distance_mean&#x27;,\n",
              "                                  &#x27;customer_per_transaction_click_mean&#x27;,\n",
              "                                  &#x27;transaction_click&#x27;, &#x27;app_leave_count&#x27;,\n",
              "                                  &#x27;transaction_screen_pressure_mean_per_page&#x27;,\n",
              "                                  &#x27;customer_screen_pressure_mean_per_page...\n",
              "                                  &#x27;customer_per_page_time_mean&#x27;,\n",
              "                                  &#x27;customer_per_page_click_mean&#x27;,\n",
              "                                  &#x27;customer_transaction_amount_mean&#x27;, &#x27;onphone&#x27;,\n",
              "                                  &#x27;transaction_amount&#x27;,\n",
              "                                  &#x27;ratio_currTran_to_cust_mean_amount&#x27;,\n",
              "                                  &#x27;customer_orig_age&#x27;]),\n",
              "                                (&#x27;cat&#x27;, OneHotEncoder(drop=&#x27;first&#x27;),\n",
              "                                 [&#x27;customer_orig_assets&#x27;, &#x27;amount_type&#x27;,\n",
              "                                  &#x27;customer_education_level&#x27;,\n",
              "                                  &#x27;application_type&#x27;, &#x27;device_type&#x27;,\n",
              "                                  &#x27;transaction_type&#x27;,\n",
              "                                  &#x27;customer_age_categorical&#x27;])])</pre></div></div></div><div class=\"sk-parallel\"><div class=\"sk-parallel-item\"><div class=\"sk-item\"><div class=\"sk-label-container\"><div class=\"sk-label sk-toggleable\"><input class=\"sk-toggleable__control sk-hidden--visually\" id=\"sk-estimator-id-3\" type=\"checkbox\" ><label for=\"sk-estimator-id-3\" class=\"sk-toggleable__label sk-toggleable__label-arrow\">num</label><div class=\"sk-toggleable__content\"><pre>[&#x27;transaction_time&#x27;, &#x27;customer_per_transaction_time_mean&#x27;, &#x27;transaction_scroll_distance&#x27;, &#x27;customer_per_transaction_scroll_distance_mean&#x27;, &#x27;customer_per_transaction_click_mean&#x27;, &#x27;transaction_click&#x27;, &#x27;app_leave_count&#x27;, &#x27;transaction_screen_pressure_mean_per_page&#x27;, &#x27;customer_screen_pressure_mean_per_page&#x27;, &#x27;distance_from_last_transaction&#x27;, &#x27;new_old_balance_ratio_orig&#x27;, &#x27;old_new_balance_ratio_dest&#x27;, &#x27;total_income_per_year&#x27;, &#x27;dest_last_24h_transaction_count&#x27;, &#x27;transaction_page_count&#x27;, &#x27;transaction_time_mean&#x27;, &#x27;transaction_scroll_distance_mean&#x27;, &#x27;trasaction_per_page_click_mean&#x27;, &#x27;customer_per_page_scroll_distance_mean&#x27;, &#x27;customer_per_page_time_mean&#x27;, &#x27;customer_per_page_click_mean&#x27;, &#x27;customer_transaction_amount_mean&#x27;, &#x27;onphone&#x27;, &#x27;transaction_amount&#x27;, &#x27;ratio_currTran_to_cust_mean_amount&#x27;, &#x27;customer_orig_age&#x27;]</pre></div></div></div><div class=\"sk-serial\"><div class=\"sk-item\"><div class=\"sk-estimator sk-toggleable\"><input class=\"sk-toggleable__control sk-hidden--visually\" id=\"sk-estimator-id-4\" type=\"checkbox\" ><label for=\"sk-estimator-id-4\" class=\"sk-toggleable__label sk-toggleable__label-arrow\">StandardScaler</label><div class=\"sk-toggleable__content\"><pre>StandardScaler()</pre></div></div></div></div></div></div><div class=\"sk-parallel-item\"><div class=\"sk-item\"><div class=\"sk-label-container\"><div class=\"sk-label sk-toggleable\"><input class=\"sk-toggleable__control sk-hidden--visually\" id=\"sk-estimator-id-5\" type=\"checkbox\" ><label for=\"sk-estimator-id-5\" class=\"sk-toggleable__label sk-toggleable__label-arrow\">cat</label><div class=\"sk-toggleable__content\"><pre>[&#x27;customer_orig_assets&#x27;, &#x27;amount_type&#x27;, &#x27;customer_education_level&#x27;, &#x27;application_type&#x27;, &#x27;device_type&#x27;, &#x27;transaction_type&#x27;, &#x27;customer_age_categorical&#x27;]</pre></div></div></div><div class=\"sk-serial\"><div class=\"sk-item\"><div class=\"sk-estimator sk-toggleable\"><input class=\"sk-toggleable__control sk-hidden--visually\" id=\"sk-estimator-id-6\" type=\"checkbox\" ><label for=\"sk-estimator-id-6\" class=\"sk-toggleable__label sk-toggleable__label-arrow\">OneHotEncoder</label><div class=\"sk-toggleable__content\"><pre>OneHotEncoder(drop=&#x27;first&#x27;)</pre></div></div></div></div></div></div></div></div><div class=\"sk-item\"><div class=\"sk-estimator sk-toggleable\"><input class=\"sk-toggleable__control sk-hidden--visually\" id=\"sk-estimator-id-7\" type=\"checkbox\" ><label for=\"sk-estimator-id-7\" class=\"sk-toggleable__label sk-toggleable__label-arrow\">RandomForestClassifier</label><div class=\"sk-toggleable__content\"><pre>RandomForestClassifier()</pre></div></div></div></div></div></div></div>"
            ]
          },
          "metadata": {},
          "execution_count": 40
        }
      ]
    },
    {
      "cell_type": "code",
      "source": [
        "y_pred = model.predict(X_test)\n",
        "\n",
        "# Model performansını değerlendirme\n",
        "roc_auc = roc_auc_score(y_test, y_pred)\n",
        "accuracy = accuracy_score(y_test, (y_pred > 0.5).astype(int))\n",
        "\n",
        "roc_auc, accuracy"
      ],
      "metadata": {
        "colab": {
          "base_uri": "https://localhost:8080/"
        },
        "id": "IX5XQVkijtPp",
        "outputId": "82096510-37b3-440f-d201-9fbc007ac801"
      },
      "execution_count": null,
      "outputs": [
        {
          "output_type": "execute_result",
          "data": {
            "text/plain": [
              "(0.9853372434017595, 0.9966666666666667)"
            ]
          },
          "metadata": {},
          "execution_count": 41
        }
      ]
    },
    {
      "cell_type": "code",
      "source": [
        "cm = confusion_matrix(y_test, y_pred)\n",
        "\n",
        "sns.heatmap(cm, annot=True, fmt='d')\n",
        "plt.xlabel('Predicted')\n",
        "plt.ylabel('True')\n",
        "plt.show()"
      ],
      "metadata": {
        "colab": {
          "base_uri": "https://localhost:8080/",
          "height": 449
        },
        "id": "GpmGeTaJjqYC",
        "outputId": "442fc3fc-fc49-47d1-d586-101ed55cf356"
      },
      "execution_count": null,
      "outputs": [
        {
          "output_type": "display_data",
          "data": {
            "text/plain": [
              "<Figure size 640x480 with 2 Axes>"
            ],
            "image/png": "[encoded data removed]"
          },
          "metadata": {}
        }
      ]
    },
    {
      "cell_type": "code",
      "source": [
        "scores = cross_val_score(model, X, y, cv=5)\n",
        "print(\"Cross-validation scores:\", scores)\n",
        "print(\"Average cross-validation score:\", scores.mean())"
      ],
      "metadata": {
        "colab": {
          "base_uri": "https://localhost:8080/"
        },
        "id": "Lu8b-7R6mPSp",
        "outputId": "c33e4c46-b87f-4c6b-d48b-b07a4ff96b24"
      },
      "execution_count": null,
      "outputs": [
        {
          "output_type": "stream",
          "name": "stdout",
          "text": [
            "Cross-validation scores: [0.9985 0.998  0.9985 1.     0.9935]\n",
            "Average cross-validation score: 0.9977\n"
          ]
        }
      ]
    },
    {
      "cell_type": "code",
      "source": [
        "f1 = f1_score(y_test, y_pred)\n",
        "precision = precision_score(y_test, y_pred)\n",
        "recall = recall_score(y_test, y_pred)"
      ],
      "metadata": {
        "id": "rd-VpdxlngEZ"
      },
      "execution_count": null,
      "outputs": []
    },
    {
      "cell_type": "code",
      "source": [
        "f1, precision, recall"
      ],
      "metadata": {
        "colab": {
          "base_uri": "https://localhost:8080/"
        },
        "id": "e0cqcjeSr71C",
        "outputId": "1b87a821-b893-49a4-8d8a-6739a07ce8ba"
      },
      "execution_count": null,
      "outputs": [
        {
          "output_type": "execute_result",
          "data": {
            "text/plain": [
              "(0.9851190476190477, 1.0, 0.9706744868035191)"
            ]
          },
          "metadata": {},
          "execution_count": 45
        }
      ]
    },
    {
      "cell_type": "code",
      "source": [
        "dataframe.info()"
      ],
      "metadata": {
        "colab": {
          "base_uri": "https://localhost:8080/"
        },
        "id": "DZkksLIU85U5",
        "outputId": "0d83cd15-984e-47cb-cd76-9c6fdddbd97c"
      },
      "execution_count": null,
      "outputs": [
        {
          "output_type": "stream",
          "name": "stdout",
          "text": [
            "<class 'pandas.core.frame.DataFrame'>\n",
            "RangeIndex: 10000 entries, 0 to 9999\n",
            "Data columns (total 37 columns):\n",
            " #   Column                                         Non-Null Count  Dtype  \n",
            "---  ------                                         --------------  -----  \n",
            " 0   transaction_time                               10000 non-null  int64  \n",
            " 1   customer_per_transaction_time_mean             10000 non-null  float64\n",
            " 2   transaction_scroll_distance                    10000 non-null  int64  \n",
            " 3   customer_per_transaction_scroll_distance_mean  10000 non-null  float64\n",
            " 4   customer_per_transaction_click_mean            10000 non-null  float64\n",
            " 5   transaction_click                              10000 non-null  int64  \n",
            " 6   app_leave_count                                10000 non-null  int64  \n",
            " 7   transaction_screen_pressure_mean_per_page      10000 non-null  float64\n",
            " 8   customer_screen_pressure_mean_per_page         10000 non-null  float64\n",
            " 9   distance_from_last_transaction                 10000 non-null  int64  \n",
            " 10  new_old_balance_ratio_orig                     10000 non-null  float64\n",
            " 11  old_new_balance_ratio_dest                     10000 non-null  float64\n",
            " 12  total_income_per_year                          10000 non-null  int64  \n",
            " 13  dest_last_24h_transaction_count                10000 non-null  int64  \n",
            " 14  transaction_type                               10000 non-null  object \n",
            " 15  transaction_page_count                         10000 non-null  int64  \n",
            " 16  transaction_time_mean                          10000 non-null  float64\n",
            " 17  transaction_scroll_distance_mean               10000 non-null  float64\n",
            " 18  trasaction_per_page_click_mean                 10000 non-null  float64\n",
            " 19  customer_per_page_scroll_distance_mean         10000 non-null  float64\n",
            " 20  customer_per_page_time_mean                    10000 non-null  float64\n",
            " 21  customer_per_page_click_mean                   10000 non-null  float64\n",
            " 22  customer_transaction_amount_mean               10000 non-null  int64  \n",
            " 23  onphone                                        10000 non-null  int64  \n",
            " 24  device_type                                    10000 non-null  object \n",
            " 25  application_type                               10000 non-null  object \n",
            " 26  customer_orig_id                               10000 non-null  int64  \n",
            " 27  customer_dest_id                               10000 non-null  int64  \n",
            " 28  customer_education_level                       10000 non-null  object \n",
            " 29  amount_type                                    10000 non-null  int64  \n",
            " 30  transaction_amount                             10000 non-null  int64  \n",
            " 31  ratio_currTran_to_cust_mean_amount             10000 non-null  float64\n",
            " 32  customer_orig_assets                           10000 non-null  int64  \n",
            " 33  customer_orig_age                              10000 non-null  int64  \n",
            " 34  customer_age_categorical                       10000 non-null  object \n",
            " 35  isFraud                                        10000 non-null  float64\n",
            " 36  senaryo                                        1157 non-null   float64\n",
            "dtypes: float64(16), int64(16), object(5)\n",
            "memory usage: 2.8+ MB\n"
          ]
        }
      ]
    },
    {
      "cell_type": "code",
      "source": [
        "encoded_dataframe.info()"
      ],
      "metadata": {
        "colab": {
          "base_uri": "https://localhost:8080/"
        },
        "id": "oWgVpFJ3sOdJ",
        "outputId": "ab49644f-ef61-4f1e-b600-6db903f4b128"
      },
      "execution_count": null,
      "outputs": [
        {
          "output_type": "stream",
          "name": "stdout",
          "text": [
            "<class 'pandas.core.frame.DataFrame'>\n",
            "RangeIndex: 10000 entries, 0 to 9999\n",
            "Data columns (total 41 columns):\n",
            " #   Column                                         Non-Null Count  Dtype  \n",
            "---  ------                                         --------------  -----  \n",
            " 0   transaction_time                               10000 non-null  int64  \n",
            " 1   customer_per_transaction_time_mean             10000 non-null  float64\n",
            " 2   transaction_scroll_distance                    10000 non-null  int64  \n",
            " 3   customer_per_transaction_scroll_distance_mean  10000 non-null  float64\n",
            " 4   customer_per_transaction_click_mean            10000 non-null  float64\n",
            " 5   transaction_click                              10000 non-null  int64  \n",
            " 6   app_leave_count                                10000 non-null  int64  \n",
            " 7   transaction_screen_pressure_mean_per_page      10000 non-null  float64\n",
            " 8   customer_screen_pressure_mean_per_page         10000 non-null  float64\n",
            " 9   distance_from_last_transaction                 10000 non-null  int64  \n",
            " 10  new_old_balance_ratio_orig                     10000 non-null  float64\n",
            " 11  old_new_balance_ratio_dest                     10000 non-null  float64\n",
            " 12  total_income_per_year                          10000 non-null  int64  \n",
            " 13  dest_last_24h_transaction_count                10000 non-null  int64  \n",
            " 14  transaction_page_count                         10000 non-null  int64  \n",
            " 15  transaction_time_mean                          10000 non-null  float64\n",
            " 16  transaction_scroll_distance_mean               10000 non-null  float64\n",
            " 17  trasaction_per_page_click_mean                 10000 non-null  float64\n",
            " 18  customer_per_page_scroll_distance_mean         10000 non-null  float64\n",
            " 19  customer_per_page_time_mean                    10000 non-null  float64\n",
            " 20  customer_per_page_click_mean                   10000 non-null  float64\n",
            " 21  customer_transaction_amount_mean               10000 non-null  int64  \n",
            " 22  onphone                                        10000 non-null  int64  \n",
            " 23  amount_type                                    10000 non-null  int64  \n",
            " 24  transaction_amount                             10000 non-null  int64  \n",
            " 25  ratio_currTran_to_cust_mean_amount             10000 non-null  float64\n",
            " 26  customer_orig_assets                           10000 non-null  int64  \n",
            " 27  customer_orig_age                              10000 non-null  int64  \n",
            " 28  isFraud                                        10000 non-null  float64\n",
            " 29  edu_type___high_school                         10000 non-null  int64  \n",
            " 30  edu_type___non_edu                             10000 non-null  int64  \n",
            " 31  edu_type___primary_school                      10000 non-null  int64  \n",
            " 32  edu_type___secondary_school                    10000 non-null  int64  \n",
            " 33  edu_type___university                          10000 non-null  int64  \n",
            " 34  application_type___mobile                      10000 non-null  int64  \n",
            " 35  application_type___web                         10000 non-null  int64  \n",
            " 36  device_type___desktop                          10000 non-null  int64  \n",
            " 37  device_type___mobile                           10000 non-null  int64  \n",
            " 38  transaction_type___credit                      10000 non-null  int64  \n",
            " 39  transaction_type___payment                     10000 non-null  int64  \n",
            " 40  transaction_type___transfer                    10000 non-null  int64  \n",
            "dtypes: float64(15), int64(26)\n",
            "memory usage: 3.1 MB\n"
          ]
        }
      ]
    },
    {
      "cell_type": "markdown",
      "source": [
        "### Random Forest with Encoded Dataset"
      ],
      "metadata": {
        "id": "NwBNoAqt6YCP"
      }
    },
    {
      "cell_type": "code",
      "source": [
        "model_encoded_random_forest = RandomForestClassifier()\n",
        "X_encoded = encoded_dataframe.drop(columns=['isFraud'])\n",
        "y_encoded = encoded_dataframe['isFraud']\n",
        "\n",
        "X_train_enc, X_test_enc, y_train_enc, y_test_enc = train_test_split(X_encoded, y_encoded, test_size=0.3, random_state=0)\n",
        "\n",
        "\n",
        "model_encoded_random_forest.fit(X_train_enc, y_train_enc)"
      ],
      "metadata": {
        "colab": {
          "base_uri": "https://localhost:8080/",
          "height": 75
        },
        "id": "nTZQ9n3F6bTs",
        "outputId": "933d94a9-0ddb-485c-cf8c-a32e97bfd5b0"
      },
      "execution_count": null,
      "outputs": [
        {
          "output_type": "execute_result",
          "data": {
            "text/plain": [
              "RandomForestClassifier()"
            ],
            "text/html": [
              "<style>#sk-container-id-3 {color: black;background-color: white;}#sk-container-id-3 pre{padding: 0;}#sk-container-id-3 div.sk-toggleable {background-color: white;}#sk-container-id-3 label.sk-toggleable__label {cursor: pointer;display: block;width: 100%;margin-bottom: 0;padding: 0.3em;box-sizing: border-box;text-align: center;}#sk-container-id-3 label.sk-toggleable__label-arrow:before {content: \"▸\";float: left;margin-right: 0.25em;color: #696969;}#sk-container-id-3 label.sk-toggleable__label-arrow:hover:before {color: black;}#sk-container-id-3 div.sk-estimator:hover label.sk-toggleable__label-arrow:before {color: black;}#sk-container-id-3 div.sk-toggleable__content {max-height: 0;max-width: 0;overflow: hidden;text-align: left;background-color: #f0f8ff;}#sk-container-id-3 div.sk-toggleable__content pre {margin: 0.2em;color: black;border-radius: 0.25em;background-color: #f0f8ff;}#sk-container-id-3 input.sk-toggleable__control:checked~div.sk-toggleable__content {max-height: 200px;max-width: 100%;overflow: auto;}#sk-container-id-3 input.sk-toggleable__control:checked~label.sk-toggleable__label-arrow:before {content: \"▾\";}#sk-container-id-3 div.sk-estimator input.sk-toggleable__control:checked~label.sk-toggleable__label {background-color: #d4ebff;}#sk-container-id-3 div.sk-label input.sk-toggleable__control:checked~label.sk-toggleable__label {background-color: #d4ebff;}#sk-container-id-3 input.sk-hidden--visually {border: 0;clip: rect(1px 1px 1px 1px);clip: rect(1px, 1px, 1px, 1px);height: 1px;margin: -1px;overflow: hidden;padding: 0;position: absolute;width: 1px;}#sk-container-id-3 div.sk-estimator {font-family: monospace;background-color: #f0f8ff;border: 1px dotted black;border-radius: 0.25em;box-sizing: border-box;margin-bottom: 0.5em;}#sk-container-id-3 div.sk-estimator:hover {background-color: #d4ebff;}#sk-container-id-3 div.sk-parallel-item::after {content: \"\";width: 100%;border-bottom: 1px solid gray;flex-grow: 1;}#sk-container-id-3 div.sk-label:hover label.sk-toggleable__label {background-color: #d4ebff;}#sk-container-id-3 div.sk-serial::before {content: \"\";position: absolute;border-left: 1px solid gray;box-sizing: border-box;top: 0;bottom: 0;left: 50%;z-index: 0;}#sk-container-id-3 div.sk-serial {display: flex;flex-direction: column;align-items: center;background-color: white;padding-right: 0.2em;padding-left: 0.2em;position: relative;}#sk-container-id-3 div.sk-item {position: relative;z-index: 1;}#sk-container-id-3 div.sk-parallel {display: flex;align-items: stretch;justify-content: center;background-color: white;position: relative;}#sk-container-id-3 div.sk-item::before, #sk-container-id-3 div.sk-parallel-item::before {content: \"\";position: absolute;border-left: 1px solid gray;box-sizing: border-box;top: 0;bottom: 0;left: 50%;z-index: -1;}#sk-container-id-3 div.sk-parallel-item {display: flex;flex-direction: column;z-index: 1;position: relative;background-color: white;}#sk-container-id-3 div.sk-parallel-item:first-child::after {align-self: flex-end;width: 50%;}#sk-container-id-3 div.sk-parallel-item:last-child::after {align-self: flex-start;width: 50%;}#sk-container-id-3 div.sk-parallel-item:only-child::after {width: 0;}#sk-container-id-3 div.sk-dashed-wrapped {border: 1px dashed gray;margin: 0 0.4em 0.5em 0.4em;box-sizing: border-box;padding-bottom: 0.4em;background-color: white;}#sk-container-id-3 div.sk-label label {font-family: monospace;font-weight: bold;display: inline-block;line-height: 1.2em;}#sk-container-id-3 div.sk-label-container {text-align: center;}#sk-container-id-3 div.sk-container {/* jupyter's `normalize.less` sets `[hidden] { display: none; }` but bootstrap.min.css set `[hidden] { display: none !important; }` so we also need the `!important` here to be able to override the default hidden behavior on the sphinx rendered scikit-learn.org. See: https://github.com/scikit-learn/scikit-learn/issues/21755 */display: inline-block !important;position: relative;}#sk-container-id-3 div.sk-text-repr-fallback {display: none;}</style><div id=\"sk-container-id-3\" class=\"sk-top-container\"><div class=\"sk-text-repr-fallback\"><pre>RandomForestClassifier()</pre><b>In a Jupyter environment, please rerun this cell to show the HTML representation or trust the notebook. <br />On GitHub, the HTML representation is unable to render, please try loading this page with nbviewer.org.</b></div><div class=\"sk-container\" hidden><div class=\"sk-item\"><div class=\"sk-estimator sk-toggleable\"><input class=\"sk-toggleable__control sk-hidden--visually\" id=\"sk-estimator-id-9\" type=\"checkbox\" checked><label for=\"sk-estimator-id-9\" class=\"sk-toggleable__label sk-toggleable__label-arrow\">RandomForestClassifier</label><div class=\"sk-toggleable__content\"><pre>RandomForestClassifier()</pre></div></div></div></div></div>"
            ]
          },
          "metadata": {},
          "execution_count": 54
        }
      ]
    },
    {
      "cell_type": "markdown",
      "source": [],
      "metadata": {
        "id": "BNoWOMWr4rG6"
      }
    },
    {
      "cell_type": "code",
      "source": [
        "y_pred_enc = model_encoded_random_forest.predict(X_test_enc)\n",
        "\n",
        "# Model performansını değerlendirme\n",
        "roc_auc = roc_auc_score(y_test_enc, y_pred_enc)\n",
        "accuracy = accuracy_score(y_test_enc, (y_pred_enc > 0.5).astype(int))\n",
        "\n",
        "roc_auc, accuracy"
      ],
      "metadata": {
        "colab": {
          "base_uri": "https://localhost:8080/"
        },
        "id": "b6L8nBFI8iRU",
        "outputId": "fb007678-0c98-40ea-8988-dfcc83b1e551"
      },
      "execution_count": null,
      "outputs": [
        {
          "output_type": "execute_result",
          "data": {
            "text/plain": [
              "(0.9882697947214076, 0.9973333333333333)"
            ]
          },
          "metadata": {},
          "execution_count": 57
        }
      ]
    },
    {
      "cell_type": "code",
      "source": [
        "cm_enc = confusion_matrix(y_test_enc, y_pred_enc)\n",
        "\n",
        "sns.heatmap(cm_enc, annot=True, fmt='d')\n",
        "plt.xlabel('Predicted')\n",
        "plt.ylabel('True')\n",
        "plt.show()"
      ],
      "metadata": {
        "colab": {
          "base_uri": "https://localhost:8080/",
          "height": 449
        },
        "outputId": "f8b5f6cb-c3b6-4ad7-ac97-6170259e16b4",
        "id": "LHyqJHm5A_zb"
      },
      "execution_count": null,
      "outputs": [
        {
          "output_type": "display_data",
          "data": {
            "text/plain": [
              "<Figure size 640x480 with 2 Axes>"
            ],
            "image/png": "[encoded data removed]"
          },
          "metadata": {}
        }
      ]
    },
    {
      "cell_type": "code",
      "source": [
        "scores = cross_val_score(model_encoded_random_forest, X_encoded, y_encoded, cv=5)\n",
        "print(\"Cross-validation scores:\", scores)\n",
        "print(\"Average cross-validation score:\", scores.mean())"
      ],
      "metadata": {
        "colab": {
          "base_uri": "https://localhost:8080/"
        },
        "outputId": "0fd6fae5-8f0e-4812-ce56-06ca811c6377",
        "id": "9NmUTbZeA_zb"
      },
      "execution_count": null,
      "outputs": [
        {
          "output_type": "stream",
          "name": "stdout",
          "text": [
            "Cross-validation scores: [0.999  0.9985 0.9985 0.9995 0.996 ]\n",
            "Average cross-validation score: 0.9983000000000001\n"
          ]
        }
      ]
    },
    {
      "cell_type": "code",
      "source": [
        "f1 = f1_score(y_test_enc, y_pred_enc)\n",
        "precision = precision_score(y_test_enc, y_pred_enc)\n",
        "recall = recall_score(y_test_enc, y_pred_enc)"
      ],
      "metadata": {
        "id": "fzbmDlnOA_zb"
      },
      "execution_count": null,
      "outputs": []
    },
    {
      "cell_type": "code",
      "source": [
        "f1, precision, recall"
      ],
      "metadata": {
        "colab": {
          "base_uri": "https://localhost:8080/"
        },
        "outputId": "0133f406-83c8-4424-f6de-312d26eec31e",
        "id": "1dVDcFIkA_zc"
      },
      "execution_count": null,
      "outputs": [
        {
          "output_type": "execute_result",
          "data": {
            "text/plain": [
              "(0.9881305637982196, 1.0, 0.9765395894428153)"
            ]
          },
          "metadata": {},
          "execution_count": 62
        }
      ]
    }
  ]
}